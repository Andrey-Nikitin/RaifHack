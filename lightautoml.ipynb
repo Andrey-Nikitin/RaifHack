{
 "cells": [
  {
   "cell_type": "markdown",
   "metadata": {},
   "source": [
    "# Step 0.1. Import necessary libraries "
   ]
  },
  {
   "cell_type": "code",
   "execution_count": 17,
   "metadata": {},
   "outputs": [],
   "source": [
    "# Standard python libraries\n",
    "import logging\n",
    "import os\n",
    "import time\n",
    "import requests\n",
    "logging.basicConfig(format='[%(asctime)s] (%(levelname)s): %(message)s', level=logging.INFO)\n",
    "\n",
    "# Installed libraries\n",
    "import numpy as np\n",
    "import pandas as pd\n",
    "from sklearn.metrics import mean_absolute_error\n",
    "from sklearn.model_selection import train_test_split\n",
    "import torch\n",
    "\n",
    "from sklearn.metrics import mean_absolute_percentage_error, r2_score, mean_squared_error\n",
    "import typing\n",
    "\n",
    "# Imports from our package\n",
    "from lightautoml.automl.presets.tabular_presets import TabularAutoML, TabularUtilizedAutoML\n",
    "from lightautoml.tasks import Task\n",
    "from lightautoml.dataset.roles import DatetimeRole"
   ]
  },
  {
   "cell_type": "code",
   "execution_count": 18,
   "metadata": {},
   "outputs": [],
   "source": [
    "THRESHOLD = 0.15\n",
    "NEGATIVE_WEIGHT = 1.1"
   ]
  },
  {
   "cell_type": "markdown",
   "metadata": {},
   "source": [
    "# Step 0.3. Data load "
   ]
  },
  {
   "cell_type": "code",
   "execution_count": 2,
   "metadata": {},
   "outputs": [
    {
     "name": "stderr",
     "output_type": "stream",
     "text": [
      "[2021-09-24 22:36:13,262] (WARNING): <decorator-gen-54>:2: DtypeWarning: Columns (1) have mixed types.Specify dtype option on import or set low_memory=False.\n",
      "\n"
     ]
    },
    {
     "name": "stdout",
     "output_type": "stream",
     "text": [
      "CPU times: user 1.17 s, sys: 76.6 ms, total: 1.24 s\n",
      "Wall time: 1.26 s\n"
     ]
    },
    {
     "data": {
      "text/html": [
       "<div>\n",
       "<style scoped>\n",
       "    .dataframe tbody tr th:only-of-type {\n",
       "        vertical-align: middle;\n",
       "    }\n",
       "\n",
       "    .dataframe tbody tr th {\n",
       "        vertical-align: top;\n",
       "    }\n",
       "\n",
       "    .dataframe thead th {\n",
       "        text-align: right;\n",
       "    }\n",
       "</style>\n",
       "<table border=\"1\" class=\"dataframe\">\n",
       "  <thead>\n",
       "    <tr style=\"text-align: right;\">\n",
       "      <th></th>\n",
       "      <th>city</th>\n",
       "      <th>floor</th>\n",
       "      <th>id</th>\n",
       "      <th>lat</th>\n",
       "      <th>lng</th>\n",
       "      <th>osm_amenity_points_in_0.001</th>\n",
       "      <th>osm_amenity_points_in_0.005</th>\n",
       "      <th>osm_amenity_points_in_0.0075</th>\n",
       "      <th>osm_amenity_points_in_0.01</th>\n",
       "      <th>osm_building_points_in_0.001</th>\n",
       "      <th>...</th>\n",
       "      <th>reform_mean_floor_count_1000</th>\n",
       "      <th>reform_mean_floor_count_500</th>\n",
       "      <th>reform_mean_year_building_1000</th>\n",
       "      <th>reform_mean_year_building_500</th>\n",
       "      <th>region</th>\n",
       "      <th>total_square</th>\n",
       "      <th>street</th>\n",
       "      <th>date</th>\n",
       "      <th>realty_type</th>\n",
       "      <th>price_type</th>\n",
       "    </tr>\n",
       "  </thead>\n",
       "  <tbody>\n",
       "    <tr>\n",
       "      <th>0</th>\n",
       "      <td>Пермь</td>\n",
       "      <td>NaN</td>\n",
       "      <td>COL_0</td>\n",
       "      <td>57.998207</td>\n",
       "      <td>56.292797</td>\n",
       "      <td>4</td>\n",
       "      <td>19</td>\n",
       "      <td>35</td>\n",
       "      <td>52</td>\n",
       "      <td>0</td>\n",
       "      <td>...</td>\n",
       "      <td>5.762963</td>\n",
       "      <td>5.530612</td>\n",
       "      <td>1964.118519</td>\n",
       "      <td>1960.959184</td>\n",
       "      <td>Пермский край</td>\n",
       "      <td>32.0</td>\n",
       "      <td>S27289</td>\n",
       "      <td>2020-01-05</td>\n",
       "      <td>10</td>\n",
       "      <td>0</td>\n",
       "    </tr>\n",
       "    <tr>\n",
       "      <th>1</th>\n",
       "      <td>Шатура</td>\n",
       "      <td>NaN</td>\n",
       "      <td>COL_1</td>\n",
       "      <td>55.574284</td>\n",
       "      <td>39.543835</td>\n",
       "      <td>3</td>\n",
       "      <td>24</td>\n",
       "      <td>37</td>\n",
       "      <td>59</td>\n",
       "      <td>0</td>\n",
       "      <td>...</td>\n",
       "      <td>2.894366</td>\n",
       "      <td>3.527778</td>\n",
       "      <td>1952.321678</td>\n",
       "      <td>1957.222222</td>\n",
       "      <td>Московская область</td>\n",
       "      <td>280.0</td>\n",
       "      <td>S17052</td>\n",
       "      <td>2020-01-05</td>\n",
       "      <td>10</td>\n",
       "      <td>0</td>\n",
       "    </tr>\n",
       "    <tr>\n",
       "      <th>2</th>\n",
       "      <td>Ярославль</td>\n",
       "      <td>NaN</td>\n",
       "      <td>COL_2</td>\n",
       "      <td>57.619140</td>\n",
       "      <td>39.850525</td>\n",
       "      <td>1</td>\n",
       "      <td>30</td>\n",
       "      <td>67</td>\n",
       "      <td>128</td>\n",
       "      <td>0</td>\n",
       "      <td>...</td>\n",
       "      <td>6.141414</td>\n",
       "      <td>7.222222</td>\n",
       "      <td>1968.150000</td>\n",
       "      <td>1973.370370</td>\n",
       "      <td>Ярославская область</td>\n",
       "      <td>297.4</td>\n",
       "      <td>S16913</td>\n",
       "      <td>2020-01-05</td>\n",
       "      <td>110</td>\n",
       "      <td>0</td>\n",
       "    </tr>\n",
       "    <tr>\n",
       "      <th>3</th>\n",
       "      <td>Новокузнецк</td>\n",
       "      <td>NaN</td>\n",
       "      <td>COL_3</td>\n",
       "      <td>53.897083</td>\n",
       "      <td>87.108604</td>\n",
       "      <td>0</td>\n",
       "      <td>0</td>\n",
       "      <td>5</td>\n",
       "      <td>21</td>\n",
       "      <td>0</td>\n",
       "      <td>...</td>\n",
       "      <td>8.581081</td>\n",
       "      <td>9.000000</td>\n",
       "      <td>1992.716216</td>\n",
       "      <td>2014.000000</td>\n",
       "      <td>Кемеровская область</td>\n",
       "      <td>190.0</td>\n",
       "      <td>S10148</td>\n",
       "      <td>2020-01-05</td>\n",
       "      <td>110</td>\n",
       "      <td>0</td>\n",
       "    </tr>\n",
       "    <tr>\n",
       "      <th>4</th>\n",
       "      <td>Москва</td>\n",
       "      <td>NaN</td>\n",
       "      <td>COL_4</td>\n",
       "      <td>55.802590</td>\n",
       "      <td>37.487110</td>\n",
       "      <td>1</td>\n",
       "      <td>23</td>\n",
       "      <td>64</td>\n",
       "      <td>153</td>\n",
       "      <td>0</td>\n",
       "      <td>...</td>\n",
       "      <td>7.263889</td>\n",
       "      <td>5.684211</td>\n",
       "      <td>1963.229167</td>\n",
       "      <td>1960.500000</td>\n",
       "      <td>Москва</td>\n",
       "      <td>60.2</td>\n",
       "      <td>S1338</td>\n",
       "      <td>2020-01-05</td>\n",
       "      <td>10</td>\n",
       "      <td>0</td>\n",
       "    </tr>\n",
       "  </tbody>\n",
       "</table>\n",
       "<p>5 rows × 77 columns</p>\n",
       "</div>"
      ],
      "text/plain": [
       "          city floor     id        lat        lng  \\\n",
       "0        Пермь   NaN  COL_0  57.998207  56.292797   \n",
       "1       Шатура   NaN  COL_1  55.574284  39.543835   \n",
       "2    Ярославль   NaN  COL_2  57.619140  39.850525   \n",
       "3  Новокузнецк   NaN  COL_3  53.897083  87.108604   \n",
       "4       Москва   NaN  COL_4  55.802590  37.487110   \n",
       "\n",
       "   osm_amenity_points_in_0.001  osm_amenity_points_in_0.005  \\\n",
       "0                            4                           19   \n",
       "1                            3                           24   \n",
       "2                            1                           30   \n",
       "3                            0                            0   \n",
       "4                            1                           23   \n",
       "\n",
       "   osm_amenity_points_in_0.0075  osm_amenity_points_in_0.01  \\\n",
       "0                            35                          52   \n",
       "1                            37                          59   \n",
       "2                            67                         128   \n",
       "3                             5                          21   \n",
       "4                            64                         153   \n",
       "\n",
       "   osm_building_points_in_0.001  ...  reform_mean_floor_count_1000  \\\n",
       "0                             0  ...                      5.762963   \n",
       "1                             0  ...                      2.894366   \n",
       "2                             0  ...                      6.141414   \n",
       "3                             0  ...                      8.581081   \n",
       "4                             0  ...                      7.263889   \n",
       "\n",
       "   reform_mean_floor_count_500  reform_mean_year_building_1000  \\\n",
       "0                     5.530612                     1964.118519   \n",
       "1                     3.527778                     1952.321678   \n",
       "2                     7.222222                     1968.150000   \n",
       "3                     9.000000                     1992.716216   \n",
       "4                     5.684211                     1963.229167   \n",
       "\n",
       "   reform_mean_year_building_500               region  total_square  street  \\\n",
       "0                    1960.959184        Пермский край          32.0  S27289   \n",
       "1                    1957.222222   Московская область         280.0  S17052   \n",
       "2                    1973.370370  Ярославская область         297.4  S16913   \n",
       "3                    2014.000000  Кемеровская область         190.0  S10148   \n",
       "4                    1960.500000               Москва          60.2   S1338   \n",
       "\n",
       "         date realty_type  price_type  \n",
       "0  2020-01-05          10           0  \n",
       "1  2020-01-05          10           0  \n",
       "2  2020-01-05         110           0  \n",
       "3  2020-01-05         110           0  \n",
       "4  2020-01-05          10           0  \n",
       "\n",
       "[5 rows x 77 columns]"
      ]
     },
     "execution_count": 2,
     "metadata": {},
     "output_type": "execute_result"
    }
   ],
   "source": [
    "%%time\n",
    "\n",
    "train_data = pd.read_csv('./data/train.csv')\n",
    "train_data.head()"
   ]
  },
  {
   "cell_type": "code",
   "execution_count": 3,
   "metadata": {},
   "outputs": [
    {
     "data": {
      "text/html": [
       "<div>\n",
       "<style scoped>\n",
       "    .dataframe tbody tr th:only-of-type {\n",
       "        vertical-align: middle;\n",
       "    }\n",
       "\n",
       "    .dataframe tbody tr th {\n",
       "        vertical-align: top;\n",
       "    }\n",
       "\n",
       "    .dataframe thead th {\n",
       "        text-align: right;\n",
       "    }\n",
       "</style>\n",
       "<table border=\"1\" class=\"dataframe\">\n",
       "  <thead>\n",
       "    <tr style=\"text-align: right;\">\n",
       "      <th></th>\n",
       "      <th>city</th>\n",
       "      <th>floor</th>\n",
       "      <th>id</th>\n",
       "      <th>osm_amenity_points_in_0.001</th>\n",
       "      <th>osm_amenity_points_in_0.005</th>\n",
       "      <th>osm_amenity_points_in_0.0075</th>\n",
       "      <th>osm_amenity_points_in_0.01</th>\n",
       "      <th>osm_building_points_in_0.001</th>\n",
       "      <th>osm_building_points_in_0.005</th>\n",
       "      <th>osm_building_points_in_0.0075</th>\n",
       "      <th>...</th>\n",
       "      <th>reform_mean_year_building_1000</th>\n",
       "      <th>reform_mean_year_building_500</th>\n",
       "      <th>region</th>\n",
       "      <th>lat</th>\n",
       "      <th>lng</th>\n",
       "      <th>total_square</th>\n",
       "      <th>street</th>\n",
       "      <th>date</th>\n",
       "      <th>realty_type</th>\n",
       "      <th>price_type</th>\n",
       "    </tr>\n",
       "  </thead>\n",
       "  <tbody>\n",
       "    <tr>\n",
       "      <th>0</th>\n",
       "      <td>Курск</td>\n",
       "      <td>1.0</td>\n",
       "      <td>COL_289284</td>\n",
       "      <td>7</td>\n",
       "      <td>55</td>\n",
       "      <td>85</td>\n",
       "      <td>117</td>\n",
       "      <td>0</td>\n",
       "      <td>0</td>\n",
       "      <td>0</td>\n",
       "      <td>...</td>\n",
       "      <td>1966.471591</td>\n",
       "      <td>1966.740260</td>\n",
       "      <td>Курская область</td>\n",
       "      <td>51.709255</td>\n",
       "      <td>36.147908</td>\n",
       "      <td>156.148996</td>\n",
       "      <td>S6983</td>\n",
       "      <td>2020-09-06</td>\n",
       "      <td>100</td>\n",
       "      <td>1</td>\n",
       "    </tr>\n",
       "    <tr>\n",
       "      <th>1</th>\n",
       "      <td>Сургут</td>\n",
       "      <td>1.0</td>\n",
       "      <td>COL_289305</td>\n",
       "      <td>8</td>\n",
       "      <td>70</td>\n",
       "      <td>112</td>\n",
       "      <td>140</td>\n",
       "      <td>0</td>\n",
       "      <td>0</td>\n",
       "      <td>0</td>\n",
       "      <td>...</td>\n",
       "      <td>1988.259259</td>\n",
       "      <td>1989.068182</td>\n",
       "      <td>Ханты-Мансийский АО</td>\n",
       "      <td>61.233240</td>\n",
       "      <td>73.462509</td>\n",
       "      <td>190.737943</td>\n",
       "      <td>S29120</td>\n",
       "      <td>2020-09-06</td>\n",
       "      <td>110</td>\n",
       "      <td>1</td>\n",
       "    </tr>\n",
       "    <tr>\n",
       "      <th>2</th>\n",
       "      <td>Тюмень</td>\n",
       "      <td>-1.0</td>\n",
       "      <td>COL_289318</td>\n",
       "      <td>3</td>\n",
       "      <td>28</td>\n",
       "      <td>67</td>\n",
       "      <td>122</td>\n",
       "      <td>0</td>\n",
       "      <td>0</td>\n",
       "      <td>0</td>\n",
       "      <td>...</td>\n",
       "      <td>1985.880282</td>\n",
       "      <td>1991.458333</td>\n",
       "      <td>Тюменская область</td>\n",
       "      <td>57.143110</td>\n",
       "      <td>65.554573</td>\n",
       "      <td>457.118051</td>\n",
       "      <td>S23731</td>\n",
       "      <td>2020-09-06</td>\n",
       "      <td>10</td>\n",
       "      <td>1</td>\n",
       "    </tr>\n",
       "    <tr>\n",
       "      <th>3</th>\n",
       "      <td>Иркутск</td>\n",
       "      <td>1.0</td>\n",
       "      <td>COL_289354</td>\n",
       "      <td>5</td>\n",
       "      <td>76</td>\n",
       "      <td>139</td>\n",
       "      <td>231</td>\n",
       "      <td>0</td>\n",
       "      <td>0</td>\n",
       "      <td>0</td>\n",
       "      <td>...</td>\n",
       "      <td>1947.073276</td>\n",
       "      <td>1941.657895</td>\n",
       "      <td>Иркутская область</td>\n",
       "      <td>52.281380</td>\n",
       "      <td>104.282975</td>\n",
       "      <td>66.503622</td>\n",
       "      <td>S14207</td>\n",
       "      <td>2020-09-06</td>\n",
       "      <td>100</td>\n",
       "      <td>1</td>\n",
       "    </tr>\n",
       "    <tr>\n",
       "      <th>4</th>\n",
       "      <td>Курск</td>\n",
       "      <td>NaN</td>\n",
       "      <td>COL_289399</td>\n",
       "      <td>8</td>\n",
       "      <td>105</td>\n",
       "      <td>189</td>\n",
       "      <td>279</td>\n",
       "      <td>0</td>\n",
       "      <td>0</td>\n",
       "      <td>2</td>\n",
       "      <td>...</td>\n",
       "      <td>1948.764151</td>\n",
       "      <td>1946.689655</td>\n",
       "      <td>Курская область</td>\n",
       "      <td>51.729706</td>\n",
       "      <td>36.194019</td>\n",
       "      <td>23.864915</td>\n",
       "      <td>S20658</td>\n",
       "      <td>2020-09-06</td>\n",
       "      <td>10</td>\n",
       "      <td>1</td>\n",
       "    </tr>\n",
       "  </tbody>\n",
       "</table>\n",
       "<p>5 rows × 76 columns</p>\n",
       "</div>"
      ],
      "text/plain": [
       "      city floor          id  osm_amenity_points_in_0.001  \\\n",
       "0    Курск   1.0  COL_289284                            7   \n",
       "1   Сургут   1.0  COL_289305                            8   \n",
       "2   Тюмень  -1.0  COL_289318                            3   \n",
       "3  Иркутск   1.0  COL_289354                            5   \n",
       "4    Курск   NaN  COL_289399                            8   \n",
       "\n",
       "   osm_amenity_points_in_0.005  osm_amenity_points_in_0.0075  \\\n",
       "0                           55                            85   \n",
       "1                           70                           112   \n",
       "2                           28                            67   \n",
       "3                           76                           139   \n",
       "4                          105                           189   \n",
       "\n",
       "   osm_amenity_points_in_0.01  osm_building_points_in_0.001  \\\n",
       "0                         117                             0   \n",
       "1                         140                             0   \n",
       "2                         122                             0   \n",
       "3                         231                             0   \n",
       "4                         279                             0   \n",
       "\n",
       "   osm_building_points_in_0.005  osm_building_points_in_0.0075  ...  \\\n",
       "0                             0                              0  ...   \n",
       "1                             0                              0  ...   \n",
       "2                             0                              0  ...   \n",
       "3                             0                              0  ...   \n",
       "4                             0                              2  ...   \n",
       "\n",
       "   reform_mean_year_building_1000  reform_mean_year_building_500  \\\n",
       "0                     1966.471591                    1966.740260   \n",
       "1                     1988.259259                    1989.068182   \n",
       "2                     1985.880282                    1991.458333   \n",
       "3                     1947.073276                    1941.657895   \n",
       "4                     1948.764151                    1946.689655   \n",
       "\n",
       "                region        lat         lng  total_square  street  \\\n",
       "0      Курская область  51.709255   36.147908    156.148996   S6983   \n",
       "1  Ханты-Мансийский АО  61.233240   73.462509    190.737943  S29120   \n",
       "2    Тюменская область  57.143110   65.554573    457.118051  S23731   \n",
       "3    Иркутская область  52.281380  104.282975     66.503622  S14207   \n",
       "4      Курская область  51.729706   36.194019     23.864915  S20658   \n",
       "\n",
       "         date  realty_type  price_type  \n",
       "0  2020-09-06          100           1  \n",
       "1  2020-09-06          110           1  \n",
       "2  2020-09-06           10           1  \n",
       "3  2020-09-06          100           1  \n",
       "4  2020-09-06           10           1  \n",
       "\n",
       "[5 rows x 76 columns]"
      ]
     },
     "execution_count": 3,
     "metadata": {},
     "output_type": "execute_result"
    }
   ],
   "source": [
    "test_data = pd.read_csv('./data/test.csv')\n",
    "test_data.head()"
   ]
  },
  {
   "cell_type": "code",
   "execution_count": 4,
   "metadata": {},
   "outputs": [
    {
     "data": {
      "text/html": [
       "<div>\n",
       "<style scoped>\n",
       "    .dataframe tbody tr th:only-of-type {\n",
       "        vertical-align: middle;\n",
       "    }\n",
       "\n",
       "    .dataframe tbody tr th {\n",
       "        vertical-align: top;\n",
       "    }\n",
       "\n",
       "    .dataframe thead th {\n",
       "        text-align: right;\n",
       "    }\n",
       "</style>\n",
       "<table border=\"1\" class=\"dataframe\">\n",
       "  <thead>\n",
       "    <tr style=\"text-align: right;\">\n",
       "      <th></th>\n",
       "      <th>id</th>\n",
       "      <th>per_square_meter_price</th>\n",
       "    </tr>\n",
       "  </thead>\n",
       "  <tbody>\n",
       "    <tr>\n",
       "      <th>0</th>\n",
       "      <td>COL_289284</td>\n",
       "      <td>0</td>\n",
       "    </tr>\n",
       "    <tr>\n",
       "      <th>1</th>\n",
       "      <td>COL_289305</td>\n",
       "      <td>0</td>\n",
       "    </tr>\n",
       "    <tr>\n",
       "      <th>2</th>\n",
       "      <td>COL_289318</td>\n",
       "      <td>0</td>\n",
       "    </tr>\n",
       "    <tr>\n",
       "      <th>3</th>\n",
       "      <td>COL_289354</td>\n",
       "      <td>0</td>\n",
       "    </tr>\n",
       "    <tr>\n",
       "      <th>4</th>\n",
       "      <td>COL_289399</td>\n",
       "      <td>0</td>\n",
       "    </tr>\n",
       "  </tbody>\n",
       "</table>\n",
       "</div>"
      ],
      "text/plain": [
       "           id  per_square_meter_price\n",
       "0  COL_289284                       0\n",
       "1  COL_289305                       0\n",
       "2  COL_289318                       0\n",
       "3  COL_289354                       0\n",
       "4  COL_289399                       0"
      ]
     },
     "execution_count": 4,
     "metadata": {},
     "output_type": "execute_result"
    }
   ],
   "source": [
    "submission = pd.read_csv('./data/test_submission.csv')\n",
    "submission.head()"
   ]
  },
  {
   "cell_type": "code",
   "execution_count": 6,
   "metadata": {},
   "outputs": [
    {
     "name": "stdout",
     "output_type": "stream",
     "text": [
      "(279792, 77)\n",
      "(2974, 76)\n"
     ]
    }
   ],
   "source": [
    "print(train_data.shape)\n",
    "print(test_data.shape)"
   ]
  },
  {
   "cell_type": "code",
   "execution_count": 26,
   "metadata": {},
   "outputs": [
    {
     "name": "stdout",
     "output_type": "stream",
     "text": [
      "Index(['city', 'floor', 'id', 'lat', 'lng', 'osm_amenity_points_in_0.001',\n",
      "       'osm_amenity_points_in_0.005', 'osm_amenity_points_in_0.0075',\n",
      "       'osm_amenity_points_in_0.01', 'osm_building_points_in_0.001',\n",
      "       'osm_building_points_in_0.005', 'osm_building_points_in_0.0075',\n",
      "       'osm_building_points_in_0.01', 'osm_catering_points_in_0.001',\n",
      "       'osm_catering_points_in_0.005', 'osm_catering_points_in_0.0075',\n",
      "       'osm_catering_points_in_0.01', 'osm_city_closest_dist',\n",
      "       'osm_city_nearest_name', 'osm_city_nearest_population',\n",
      "       'osm_crossing_closest_dist', 'osm_crossing_points_in_0.001',\n",
      "       'osm_crossing_points_in_0.005', 'osm_crossing_points_in_0.0075',\n",
      "       'osm_crossing_points_in_0.01', 'osm_culture_points_in_0.001',\n",
      "       'osm_culture_points_in_0.005', 'osm_culture_points_in_0.0075',\n",
      "       'osm_culture_points_in_0.01', 'osm_finance_points_in_0.001',\n",
      "       'osm_finance_points_in_0.005', 'osm_finance_points_in_0.0075',\n",
      "       'osm_finance_points_in_0.01', 'osm_healthcare_points_in_0.005',\n",
      "       'osm_healthcare_points_in_0.0075', 'osm_healthcare_points_in_0.01',\n",
      "       'osm_historic_points_in_0.005', 'osm_historic_points_in_0.0075',\n",
      "       'osm_historic_points_in_0.01', 'osm_hotels_points_in_0.005',\n",
      "       'osm_hotels_points_in_0.0075', 'osm_hotels_points_in_0.01',\n",
      "       'osm_leisure_points_in_0.005', 'osm_leisure_points_in_0.0075',\n",
      "       'osm_leisure_points_in_0.01', 'osm_offices_points_in_0.001',\n",
      "       'osm_offices_points_in_0.005', 'osm_offices_points_in_0.0075',\n",
      "       'osm_offices_points_in_0.01', 'osm_shops_points_in_0.001',\n",
      "       'osm_shops_points_in_0.005', 'osm_shops_points_in_0.0075',\n",
      "       'osm_shops_points_in_0.01', 'osm_subway_closest_dist',\n",
      "       'osm_train_stop_closest_dist', 'osm_train_stop_points_in_0.005',\n",
      "       'osm_train_stop_points_in_0.0075', 'osm_train_stop_points_in_0.01',\n",
      "       'osm_transport_stop_closest_dist', 'osm_transport_stop_points_in_0.005',\n",
      "       'osm_transport_stop_points_in_0.0075',\n",
      "       'osm_transport_stop_points_in_0.01', 'per_square_meter_price',\n",
      "       'reform_count_of_houses_1000', 'reform_count_of_houses_500',\n",
      "       'reform_house_population_1000', 'reform_house_population_500',\n",
      "       'reform_mean_floor_count_1000', 'reform_mean_floor_count_500',\n",
      "       'reform_mean_year_building_1000', 'reform_mean_year_building_500',\n",
      "       'region', 'total_square', 'street', 'date', 'realty_type',\n",
      "       'price_type'],\n",
      "      dtype='object')\n"
     ]
    }
   ],
   "source": [
    "print(train_data.columns)"
   ]
  },
  {
   "cell_type": "markdown",
   "metadata": {},
   "source": [
    "# Step 0.2. Parameters "
   ]
  },
  {
   "cell_type": "code",
   "execution_count": 32,
   "metadata": {},
   "outputs": [],
   "source": [
    "N_THREADS = 16 # threads cnt for lgbm and linear models\n",
    "N_FOLDS = 7 # folds cnt for AutoML, best 7\n",
    "RANDOM_STATE = 42 # fixed random state for various reasons\n",
    "TEST_SIZE = 0.1 # Test size for metric check\n",
    "TIMEOUT = 3*3600 # Time in seconds for automl run\n",
    "TARGET_NAME = 'per_square_meter_price' # Target column name"
   ]
  },
  {
   "cell_type": "markdown",
   "metadata": {},
   "source": [
    "# Step 0.4. Some user feature preparation "
   ]
  },
  {
   "cell_type": "code",
   "execution_count": 11,
   "metadata": {},
   "outputs": [],
   "source": [
    "def deviation_metric_one_sample(y_true: typing.Union[float, int], y_pred: typing.Union[float, int]) -> float:\n",
    "    \"\"\"\n",
    "    Реализация кастомной метрики для хакатона.\n",
    "\n",
    "    :param y_true: float, реальная цена\n",
    "    :param y_pred: float, предсказанная цена\n",
    "    :return: float, значение метрики\n",
    "    \"\"\"\n",
    "    deviation = (y_pred - y_true) / np.maximum(1e-8, y_true)\n",
    "    if np.abs(deviation) <= THRESHOLD:\n",
    "        return 0\n",
    "    elif deviation <= - 4 * THRESHOLD:\n",
    "        return 9 * NEGATIVE_WEIGHT\n",
    "    elif deviation < -THRESHOLD:\n",
    "        return NEGATIVE_WEIGHT * ((deviation / THRESHOLD) + 1) ** 2\n",
    "    elif deviation < 4 * THRESHOLD:\n",
    "        return ((deviation / THRESHOLD) - 1) ** 2\n",
    "    else:\n",
    "        return 9\n",
    "\n",
    "\n",
    "def deviation_metric(y_true: np.array, y_pred: np.array) -> float:\n",
    "    return np.array([deviation_metric_one_sample(y_true[n], y_pred[n]) for n in range(len(y_true))]).mean()\n",
    "\n",
    "def median_absolute_percentage_error(y_true: np.array, y_pred: np.array) -> float:\n",
    "    return np.median(np.abs(y_pred-y_true)/y_true)"
   ]
  },
  {
   "cell_type": "markdown",
   "metadata": {},
   "source": [
    "# ========= AutoML preset usage =========\n",
    "\n",
    "\n",
    "## Step 1. Create Task"
   ]
  },
  {
   "cell_type": "code",
   "execution_count": 33,
   "metadata": {},
   "outputs": [
    {
     "name": "stdout",
     "output_type": "stream",
     "text": [
      "CPU times: user 197 µs, sys: 106 µs, total: 303 µs\n",
      "Wall time: 312 µs\n"
     ]
    }
   ],
   "source": [
    "%%time\n",
    "\n",
    "task = Task('reg', loss='mse', metric=deviation_metric, greater_is_better=False)"
   ]
  },
  {
   "cell_type": "markdown",
   "metadata": {},
   "source": [
    "## Step 2. Setup columns roles"
   ]
  },
  {
   "cell_type": "markdown",
   "metadata": {},
   "source": [
    "Roles setup here set target column and base date, which is used to calculate date differences:"
   ]
  },
  {
   "cell_type": "code",
   "execution_count": 34,
   "metadata": {},
   "outputs": [
    {
     "name": "stdout",
     "output_type": "stream",
     "text": [
      "CPU times: user 51 µs, sys: 0 ns, total: 51 µs\n",
      "Wall time: 57.7 µs\n"
     ]
    }
   ],
   "source": [
    "%%time\n",
    "\n",
    "roles = {'target': TARGET_NAME,\n",
    "         'drop': ['id', 'floor'],\n",
    "         DatetimeRole(base_date=False, base_feats=True, seasonality=('y', 'm', 'd')): 'date'\n",
    "         }"
   ]
  },
  {
   "cell_type": "markdown",
   "metadata": {},
   "source": [
    "## Step 3. Create AutoML from preset"
   ]
  },
  {
   "cell_type": "markdown",
   "metadata": {},
   "source": [
    "To create AutoML model here we use `TabularAutoML` preset, which looks like:\n",
    "\n",
    "![TabularAutoML preset pipeline](https://github.com/sberbank-ai-lab/LightAutoML/raw/master/imgs/tutorial_2_pipeline.png)\n",
    "\n",
    "All params we set above can be send inside preset to change its configuration:"
   ]
  },
  {
   "cell_type": "code",
   "execution_count": 35,
   "metadata": {
    "_kg_hide-output": true,
    "scrolled": true
   },
   "outputs": [
    {
     "name": "stdout",
     "output_type": "stream",
     "text": [
      "Start automl preset with listed constraints:\n",
      "- time: 10800 seconds\n",
      "- cpus: 16 cores\n",
      "- memory: 16 gb\n",
      "\n",
      "Train data shape: (279792, 76)\n",
      "Feats was rejected during automatic roles guess: []\n",
      "\n",
      "\n",
      "Layer 1 ...\n",
      "Train process start. Time left 10788.811262845993 secs\n",
      "Start fitting Selector_LightGBM ...\n",
      "\n",
      "===== Start working with fold 0 for Selector_LightGBM =====\n",
      "\n",
      "Training until validation scores don't improve for 100 rounds\n",
      "[100]\tvalid's l2: 8.07171e+09\tvalid's Opt metric: 3.93613\n",
      "[200]\tvalid's l2: 7.21632e+09\tvalid's Opt metric: 3.69503\n",
      "[300]\tvalid's l2: 6.82605e+09\tvalid's Opt metric: 3.6216\n",
      "[400]\tvalid's l2: 6.55875e+09\tvalid's Opt metric: 3.55427\n",
      "[500]\tvalid's l2: 6.35313e+09\tvalid's Opt metric: 3.49941\n",
      "[600]\tvalid's l2: 6.20533e+09\tvalid's Opt metric: 3.46235\n",
      "[700]\tvalid's l2: 6.07268e+09\tvalid's Opt metric: 3.42871\n",
      "[800]\tvalid's l2: 5.97092e+09\tvalid's Opt metric: 3.39761\n",
      "[900]\tvalid's l2: 5.87914e+09\tvalid's Opt metric: 3.36882\n",
      "[1000]\tvalid's l2: 5.80959e+09\tvalid's Opt metric: 3.34742\n",
      "[1100]\tvalid's l2: 5.74187e+09\tvalid's Opt metric: 3.32603\n",
      "[1200]\tvalid's l2: 5.68335e+09\tvalid's Opt metric: 3.30304\n",
      "[1300]\tvalid's l2: 5.63567e+09\tvalid's Opt metric: 3.28416\n",
      "[1400]\tvalid's l2: 5.58931e+09\tvalid's Opt metric: 3.26321\n",
      "[1500]\tvalid's l2: 5.5449e+09\tvalid's Opt metric: 3.24408\n",
      "[1600]\tvalid's l2: 5.50399e+09\tvalid's Opt metric: 3.2256\n",
      "[1700]\tvalid's l2: 5.47148e+09\tvalid's Opt metric: 3.20727\n",
      "[1800]\tvalid's l2: 5.43942e+09\tvalid's Opt metric: 3.19179\n",
      "[1900]\tvalid's l2: 5.41349e+09\tvalid's Opt metric: 3.17711\n",
      "[2000]\tvalid's l2: 5.38664e+09\tvalid's Opt metric: 3.16322\n",
      "Did not meet early stopping. Best iteration is:\n",
      "[2000]\tvalid's l2: 5.38664e+09\tvalid's Opt metric: 3.16322\n",
      "Selector_LightGBM fitting and predicting completed\n",
      "Start fitting Lvl_0_Pipe_0_Mod_0_LightGBM ...\n",
      "\n",
      "===== Start working with fold 0 for Lvl_0_Pipe_0_Mod_0_LightGBM =====\n",
      "\n",
      "Training until validation scores don't improve for 100 rounds\n",
      "[100]\tvalid's l2: 6.46715e+09\tvalid's Opt metric: 3.20519\n",
      "[200]\tvalid's l2: 6.16825e+09\tvalid's Opt metric: 3.05452\n",
      "[300]\tvalid's l2: 6.05686e+09\tvalid's Opt metric: 3.07683\n",
      "Early stopping, best iteration is:\n",
      "[219]\tvalid's l2: 6.13777e+09\tvalid's Opt metric: 3.04703\n",
      "\n",
      "===== Start working with fold 1 for Lvl_0_Pipe_0_Mod_0_LightGBM =====\n",
      "\n",
      "Training until validation scores don't improve for 100 rounds\n",
      "[100]\tvalid's l2: 5.70102e+09\tvalid's Opt metric: 3.19466\n",
      "[200]\tvalid's l2: 5.38399e+09\tvalid's Opt metric: 3.03515\n",
      "[300]\tvalid's l2: 5.26941e+09\tvalid's Opt metric: 3.00181\n",
      "[400]\tvalid's l2: 5.20997e+09\tvalid's Opt metric: 2.97571\n",
      "[500]\tvalid's l2: 5.15333e+09\tvalid's Opt metric: 2.96008\n",
      "[600]\tvalid's l2: 5.1026e+09\tvalid's Opt metric: 2.94548\n",
      "[700]\tvalid's l2: 5.06416e+09\tvalid's Opt metric: 2.93628\n",
      "[800]\tvalid's l2: 5.03498e+09\tvalid's Opt metric: 2.92338\n",
      "[900]\tvalid's l2: 5.01004e+09\tvalid's Opt metric: 2.91423\n",
      "[1000]\tvalid's l2: 4.98868e+09\tvalid's Opt metric: 2.90636\n",
      "[1100]\tvalid's l2: 4.97215e+09\tvalid's Opt metric: 2.89784\n",
      "[1200]\tvalid's l2: 4.95704e+09\tvalid's Opt metric: 2.89342\n",
      "[1300]\tvalid's l2: 4.94231e+09\tvalid's Opt metric: 2.88685\n",
      "[1400]\tvalid's l2: 4.92707e+09\tvalid's Opt metric: 2.88536\n",
      "[1500]\tvalid's l2: 4.91535e+09\tvalid's Opt metric: 2.8836\n",
      "Early stopping, best iteration is:\n",
      "[1426]\tvalid's l2: 4.92301e+09\tvalid's Opt metric: 2.88165\n",
      "\n",
      "===== Start working with fold 2 for Lvl_0_Pipe_0_Mod_0_LightGBM =====\n",
      "\n",
      "Training until validation scores don't improve for 100 rounds\n",
      "[100]\tvalid's l2: 6.66927e+09\tvalid's Opt metric: 3.42795\n",
      "[200]\tvalid's l2: 6.32627e+09\tvalid's Opt metric: 3.29313\n",
      "[300]\tvalid's l2: 6.16869e+09\tvalid's Opt metric: 3.26217\n",
      "[400]\tvalid's l2: 6.08458e+09\tvalid's Opt metric: 3.25045\n",
      "[500]\tvalid's l2: 6.02539e+09\tvalid's Opt metric: 3.25213\n",
      "Early stopping, best iteration is:\n",
      "[461]\tvalid's l2: 6.04247e+09\tvalid's Opt metric: 3.24574\n",
      "\n",
      "===== Start working with fold 3 for Lvl_0_Pipe_0_Mod_0_LightGBM =====\n",
      "\n",
      "Training until validation scores don't improve for 100 rounds\n",
      "[100]\tvalid's l2: 6.61798e+09\tvalid's Opt metric: 3.30761\n",
      "[200]\tvalid's l2: 6.31217e+09\tvalid's Opt metric: 3.16254\n",
      "[300]\tvalid's l2: 6.13834e+09\tvalid's Opt metric: 3.12404\n",
      "[400]\tvalid's l2: 6.02918e+09\tvalid's Opt metric: 3.10441\n",
      "[500]\tvalid's l2: 5.95586e+09\tvalid's Opt metric: 3.08424\n",
      "[600]\tvalid's l2: 5.89379e+09\tvalid's Opt metric: 3.0687\n",
      "[700]\tvalid's l2: 5.84821e+09\tvalid's Opt metric: 3.0527\n",
      "[800]\tvalid's l2: 5.80648e+09\tvalid's Opt metric: 3.03901\n",
      "[900]\tvalid's l2: 5.76073e+09\tvalid's Opt metric: 3.02518\n",
      "[1000]\tvalid's l2: 5.73196e+09\tvalid's Opt metric: 3.01567\n",
      "[1100]\tvalid's l2: 5.70879e+09\tvalid's Opt metric: 3.00886\n",
      "[1200]\tvalid's l2: 5.682e+09\tvalid's Opt metric: 3.00186\n",
      "[1300]\tvalid's l2: 5.66189e+09\tvalid's Opt metric: 2.99457\n",
      "[1400]\tvalid's l2: 5.63919e+09\tvalid's Opt metric: 2.98819\n",
      "[1500]\tvalid's l2: 5.62507e+09\tvalid's Opt metric: 2.98034\n",
      "[1600]\tvalid's l2: 5.60348e+09\tvalid's Opt metric: 2.97131\n",
      "[1700]\tvalid's l2: 5.58812e+09\tvalid's Opt metric: 2.96548\n",
      "[1800]\tvalid's l2: 5.57457e+09\tvalid's Opt metric: 2.95982\n",
      "[1900]\tvalid's l2: 5.55772e+09\tvalid's Opt metric: 2.95212\n",
      "[2000]\tvalid's l2: 5.54794e+09\tvalid's Opt metric: 2.94477\n",
      "Did not meet early stopping. Best iteration is:\n",
      "[1999]\tvalid's l2: 5.54773e+09\tvalid's Opt metric: 2.94477\n",
      "\n",
      "===== Start working with fold 4 for Lvl_0_Pipe_0_Mod_0_LightGBM =====\n",
      "\n",
      "Training until validation scores don't improve for 100 rounds\n",
      "[100]\tvalid's l2: 6.95447e+09\tvalid's Opt metric: 3.30506\n",
      "[200]\tvalid's l2: 6.55591e+09\tvalid's Opt metric: 3.15652\n",
      "[300]\tvalid's l2: 6.38834e+09\tvalid's Opt metric: 3.12498\n",
      "[400]\tvalid's l2: 6.25929e+09\tvalid's Opt metric: 3.09316\n",
      "[500]\tvalid's l2: 6.17522e+09\tvalid's Opt metric: 3.07201\n",
      "[600]\tvalid's l2: 6.10369e+09\tvalid's Opt metric: 3.05017\n",
      "[700]\tvalid's l2: 6.05176e+09\tvalid's Opt metric: 3.03401\n",
      "[800]\tvalid's l2: 6.00727e+09\tvalid's Opt metric: 3.02\n",
      "[900]\tvalid's l2: 5.97271e+09\tvalid's Opt metric: 3.01283\n",
      "[1000]\tvalid's l2: 5.94116e+09\tvalid's Opt metric: 3.00412\n",
      "[1100]\tvalid's l2: 5.91647e+09\tvalid's Opt metric: 2.99546\n",
      "[1200]\tvalid's l2: 5.89701e+09\tvalid's Opt metric: 2.98896\n",
      "[1300]\tvalid's l2: 5.87707e+09\tvalid's Opt metric: 2.97632\n",
      "[1400]\tvalid's l2: 5.86161e+09\tvalid's Opt metric: 2.9708\n",
      "[1500]\tvalid's l2: 5.83867e+09\tvalid's Opt metric: 2.96371\n",
      "[1600]\tvalid's l2: 5.82242e+09\tvalid's Opt metric: 2.95973\n",
      "[1700]\tvalid's l2: 5.80695e+09\tvalid's Opt metric: 2.95436\n",
      "[1800]\tvalid's l2: 5.79357e+09\tvalid's Opt metric: 2.9494\n",
      "[1900]\tvalid's l2: 5.78307e+09\tvalid's Opt metric: 2.94605\n",
      "[2000]\tvalid's l2: 5.7674e+09\tvalid's Opt metric: 2.94297\n",
      "Did not meet early stopping. Best iteration is:\n",
      "[2000]\tvalid's l2: 5.7674e+09\tvalid's Opt metric: 2.94297\n",
      "\n",
      "===== Start working with fold 5 for Lvl_0_Pipe_0_Mod_0_LightGBM =====\n",
      "\n",
      "Training until validation scores don't improve for 100 rounds\n",
      "[100]\tvalid's l2: 7.19738e+09\tvalid's Opt metric: 3.34928\n",
      "[200]\tvalid's l2: 6.78383e+09\tvalid's Opt metric: 3.20292\n",
      "[300]\tvalid's l2: 6.57778e+09\tvalid's Opt metric: 3.17664\n",
      "[400]\tvalid's l2: 6.46424e+09\tvalid's Opt metric: 3.15536\n",
      "[500]\tvalid's l2: 6.38969e+09\tvalid's Opt metric: 3.14489\n",
      "[600]\tvalid's l2: 6.32582e+09\tvalid's Opt metric: 3.13471\n",
      "[700]\tvalid's l2: 6.2812e+09\tvalid's Opt metric: 3.12373\n",
      "[800]\tvalid's l2: 6.23516e+09\tvalid's Opt metric: 3.12706\n",
      "Early stopping, best iteration is:\n",
      "[730]\tvalid's l2: 6.26394e+09\tvalid's Opt metric: 3.11939\n",
      "\n",
      "===== Start working with fold 6 for Lvl_0_Pipe_0_Mod_0_LightGBM =====\n",
      "\n",
      "Training until validation scores don't improve for 100 rounds\n",
      "[100]\tvalid's l2: 6.83698e+09\tvalid's Opt metric: 3.30067\n",
      "[200]\tvalid's l2: 6.45452e+09\tvalid's Opt metric: 3.16745\n",
      "[300]\tvalid's l2: 6.30273e+09\tvalid's Opt metric: 3.13666\n",
      "[400]\tvalid's l2: 6.20264e+09\tvalid's Opt metric: 3.11133\n",
      "[500]\tvalid's l2: 6.1321e+09\tvalid's Opt metric: 3.09206\n",
      "[600]\tvalid's l2: 6.06863e+09\tvalid's Opt metric: 3.09833\n",
      "Early stopping, best iteration is:\n",
      "[529]\tvalid's l2: 6.11128e+09\tvalid's Opt metric: 3.08898\n",
      "Lvl_0_Pipe_0_Mod_0_LightGBM fitting and predicting completed\n",
      "Optuna may run 1890.107549905777 secs\n"
     ]
    },
    {
     "name": "stderr",
     "output_type": "stream",
     "text": [
      "[2021-09-25 00:25:55,625] (INFO): A new study created in memory with name: no-name-8ae095ed-1271-4d6b-bd5a-fb1adb456237\n"
     ]
    },
    {
     "name": "stdout",
     "output_type": "stream",
     "text": [
      "Start fitting Lvl_0_Pipe_0_Mod_1_LightGBM ...\n",
      "\n",
      "===== Start working with fold 0 for Lvl_0_Pipe_0_Mod_1_LightGBM =====\n",
      "\n",
      "Training until validation scores don't improve for 100 rounds\n",
      "[100]\tvalid's l2: 6.0209e+09\tvalid's Opt metric: 3.15837\n",
      "[200]\tvalid's l2: 5.77223e+09\tvalid's Opt metric: 3.06588\n",
      "Early stopping, best iteration is:\n",
      "[179]\tvalid's l2: 5.78918e+09\tvalid's Opt metric: 3.03203\n",
      "Lvl_0_Pipe_0_Mod_1_LightGBM fitting and predicting completed\n"
     ]
    },
    {
     "name": "stderr",
     "output_type": "stream",
     "text": [
      "[2021-09-25 00:26:41,413] (INFO): Trial 0 finished with value: -3.0320256333628284 and parameters: {'feature_fraction': 0.6872700594236812, 'num_leaves': 244, 'bagging_fraction': 0.8659969709057025, 'min_sum_hessian_in_leaf': 0.24810409748678125, 'reg_alpha': 2.5361081166471375e-07, 'reg_lambda': 2.5348407664333426e-07}. Best is trial 0 with value: -3.0320256333628284.\n"
     ]
    },
    {
     "name": "stdout",
     "output_type": "stream",
     "text": [
      "Start fitting Lvl_0_Pipe_0_Mod_1_LightGBM ...\n",
      "\n",
      "===== Start working with fold 0 for Lvl_0_Pipe_0_Mod_1_LightGBM =====\n",
      "\n",
      "Training until validation scores don't improve for 100 rounds\n",
      "[100]\tvalid's l2: 6.26231e+09\tvalid's Opt metric: 3.16001\n",
      "[200]\tvalid's l2: 5.90806e+09\tvalid's Opt metric: 3.03964\n",
      "Early stopping, best iteration is:\n",
      "[182]\tvalid's l2: 5.93473e+09\tvalid's Opt metric: 3.02933\n",
      "Lvl_0_Pipe_0_Mod_1_LightGBM fitting and predicting completed\n"
     ]
    },
    {
     "name": "stderr",
     "output_type": "stream",
     "text": [
      "[2021-09-25 00:27:25,848] (INFO): Trial 1 finished with value: -3.029328643801239 and parameters: {'feature_fraction': 0.5290418060840998, 'num_leaves': 223, 'bagging_fraction': 0.8005575058716043, 'min_sum_hessian_in_leaf': 0.679657809075816, 'reg_alpha': 1.5320059381854043e-08, 'reg_lambda': 5.360294728728285}. Best is trial 1 with value: -3.029328643801239.\n"
     ]
    },
    {
     "name": "stdout",
     "output_type": "stream",
     "text": [
      "Start fitting Lvl_0_Pipe_0_Mod_1_LightGBM ...\n",
      "\n",
      "===== Start working with fold 0 for Lvl_0_Pipe_0_Mod_1_LightGBM =====\n",
      "\n",
      "Training until validation scores don't improve for 100 rounds\n",
      "[100]\tvalid's l2: 6.48199e+09\tvalid's Opt metric: 3.20782\n",
      "[200]\tvalid's l2: 6.22239e+09\tvalid's Opt metric: 3.05421\n",
      "[300]\tvalid's l2: 6.117e+09\tvalid's Opt metric: 3.02978\n",
      "[400]\tvalid's l2: 6.05664e+09\tvalid's Opt metric: 3.06535\n",
      "Early stopping, best iteration is:\n",
      "[305]\tvalid's l2: 6.11435e+09\tvalid's Opt metric: 3.02782\n",
      "Lvl_0_Pipe_0_Mod_1_LightGBM fitting and predicting completed\n"
     ]
    },
    {
     "name": "stderr",
     "output_type": "stream",
     "text": [
      "[2021-09-25 00:28:26,818] (INFO): Trial 2 finished with value: -3.0278154108345094 and parameters: {'feature_fraction': 0.9162213204002109, 'num_leaves': 66, 'bagging_fraction': 0.5909124836035503, 'min_sum_hessian_in_leaf': 0.00541524411940254, 'reg_alpha': 5.472429642032198e-06, 'reg_lambda': 0.00052821153945323}. Best is trial 2 with value: -3.0278154108345094.\n"
     ]
    },
    {
     "name": "stdout",
     "output_type": "stream",
     "text": [
      "Start fitting Lvl_0_Pipe_0_Mod_1_LightGBM ...\n",
      "\n",
      "===== Start working with fold 0 for Lvl_0_Pipe_0_Mod_1_LightGBM =====\n",
      "\n",
      "Training until validation scores don't improve for 100 rounds\n",
      "[100]\tvalid's l2: 6.37456e+09\tvalid's Opt metric: 3.19982\n",
      "[200]\tvalid's l2: 6.09537e+09\tvalid's Opt metric: 3.0651\n",
      "[300]\tvalid's l2: 5.96996e+09\tvalid's Opt metric: 3.04503\n",
      "[400]\tvalid's l2: 5.90958e+09\tvalid's Opt metric: 3.07636\n",
      "Early stopping, best iteration is:\n",
      "[311]\tvalid's l2: 5.96023e+09\tvalid's Opt metric: 3.04143\n",
      "Lvl_0_Pipe_0_Mod_1_LightGBM fitting and predicting completed\n"
     ]
    },
    {
     "name": "stderr",
     "output_type": "stream",
     "text": [
      "[2021-09-25 00:29:30,272] (INFO): Trial 3 finished with value: -3.0414326724753757 and parameters: {'feature_fraction': 0.7159725093210578, 'num_leaves': 85, 'bagging_fraction': 0.8059264473611898, 'min_sum_hessian_in_leaf': 0.003613894271216527, 'reg_alpha': 4.258943089524393e-06, 'reg_lambda': 1.9826980964985924e-05}. Best is trial 2 with value: -3.0278154108345094.\n"
     ]
    },
    {
     "name": "stdout",
     "output_type": "stream",
     "text": [
      "Start fitting Lvl_0_Pipe_0_Mod_1_LightGBM ...\n",
      "\n",
      "===== Start working with fold 0 for Lvl_0_Pipe_0_Mod_1_LightGBM =====\n",
      "\n",
      "Training until validation scores don't improve for 100 rounds\n",
      "[100]\tvalid's l2: 6.14609e+09\tvalid's Opt metric: 3.15298\n",
      "[200]\tvalid's l2: 5.8553e+09\tvalid's Opt metric: 3.02151\n",
      "[300]\tvalid's l2: 5.74721e+09\tvalid's Opt metric: 3.07415\n",
      "Early stopping, best iteration is:\n",
      "[229]\tvalid's l2: 5.79774e+09\tvalid's Opt metric: 3.0187\n",
      "Lvl_0_Pipe_0_Mod_1_LightGBM fitting and predicting completed\n"
     ]
    },
    {
     "name": "stderr",
     "output_type": "stream",
     "text": [
      "[2021-09-25 00:30:24,549] (INFO): Trial 4 finished with value: -3.0187002173962485 and parameters: {'feature_fraction': 0.728034992108518, 'num_leaves': 204, 'bagging_fraction': 0.5998368910791798, 'min_sum_hessian_in_leaf': 0.11400863701127326, 'reg_alpha': 0.0021465011216654484, 'reg_lambda': 2.6185068507773707e-08}. Best is trial 4 with value: -3.0187002173962485.\n"
     ]
    },
    {
     "name": "stdout",
     "output_type": "stream",
     "text": [
      "Start fitting Lvl_0_Pipe_0_Mod_1_LightGBM ...\n",
      "\n",
      "===== Start working with fold 0 for Lvl_0_Pipe_0_Mod_1_LightGBM =====\n",
      "\n",
      "Training until validation scores don't improve for 100 rounds\n",
      "[100]\tvalid's l2: 6.55683e+09\tvalid's Opt metric: 3.2226\n",
      "[200]\tvalid's l2: 6.27152e+09\tvalid's Opt metric: 3.06369\n",
      "[300]\tvalid's l2: 6.1571e+09\tvalid's Opt metric: 3.04241\n",
      "Early stopping, best iteration is:\n",
      "[299]\tvalid's l2: 6.1586e+09\tvalid's Opt metric: 3.04193\n",
      "Lvl_0_Pipe_0_Mod_1_LightGBM fitting and predicting completed\n"
     ]
    },
    {
     "name": "stderr",
     "output_type": "stream",
     "text": [
      "[2021-09-25 00:31:23,320] (INFO): Trial 5 finished with value: -3.0419261671312303 and parameters: {'feature_fraction': 0.8037724259507192, 'num_leaves': 56, 'bagging_fraction': 0.5325257964926398, 'min_sum_hessian_in_leaf': 6.245139574743075, 'reg_alpha': 4.905556676028774, 'reg_lambda': 0.18861495878553936}. Best is trial 4 with value: -3.0187002173962485.\n"
     ]
    },
    {
     "name": "stdout",
     "output_type": "stream",
     "text": [
      "Start fitting Lvl_0_Pipe_0_Mod_1_LightGBM ...\n",
      "\n",
      "===== Start working with fold 0 for Lvl_0_Pipe_0_Mod_1_LightGBM =====\n",
      "\n",
      "Training until validation scores don't improve for 100 rounds\n",
      "[100]\tvalid's l2: 6.73811e+09\tvalid's Opt metric: 3.25931\n",
      "[200]\tvalid's l2: 6.40565e+09\tvalid's Opt metric: 3.08405\n",
      "[300]\tvalid's l2: 6.27717e+09\tvalid's Opt metric: 3.05116\n",
      "[400]\tvalid's l2: 6.18722e+09\tvalid's Opt metric: 3.03944\n",
      "[500]\tvalid's l2: 6.1215e+09\tvalid's Opt metric: 3.07657\n",
      "Early stopping, best iteration is:\n",
      "[410]\tvalid's l2: 6.17632e+09\tvalid's Opt metric: 3.03738\n",
      "Lvl_0_Pipe_0_Mod_1_LightGBM fitting and predicting completed\n"
     ]
    },
    {
     "name": "stderr",
     "output_type": "stream",
     "text": [
      "[2021-09-25 00:32:38,757] (INFO): Trial 6 finished with value: -3.037383576682805 and parameters: {'feature_fraction': 0.6523068845866853, 'num_leaves': 39, 'bagging_fraction': 0.8421165132560784, 'min_sum_hessian_in_leaf': 0.057624872164786026, 'reg_alpha': 1.254134495897175e-07, 'reg_lambda': 0.00028614897264046574}. Best is trial 4 with value: -3.0187002173962485.\n"
     ]
    },
    {
     "name": "stdout",
     "output_type": "stream",
     "text": [
      "Start fitting Lvl_0_Pipe_0_Mod_1_LightGBM ...\n",
      "\n",
      "===== Start working with fold 0 for Lvl_0_Pipe_0_Mod_1_LightGBM =====\n",
      "\n",
      "Training until validation scores don't improve for 100 rounds\n",
      "[100]\tvalid's l2: 6.17123e+09\tvalid's Opt metric: 3.17918\n",
      "[200]\tvalid's l2: 5.88083e+09\tvalid's Opt metric: 3.06886\n",
      "[300]\tvalid's l2: 5.77306e+09\tvalid's Opt metric: 3.10323\n",
      "Early stopping, best iteration is:\n",
      "[221]\tvalid's l2: 5.84978e+09\tvalid's Opt metric: 3.06348\n",
      "Lvl_0_Pipe_0_Mod_1_LightGBM fitting and predicting completed\n"
     ]
    },
    {
     "name": "stderr",
     "output_type": "stream",
     "text": [
      "[2021-09-25 00:33:30,001] (INFO): Trial 7 finished with value: -3.063483266530374 and parameters: {'feature_fraction': 0.5171942605576092, 'num_leaves': 234, 'bagging_fraction': 0.6293899908000085, 'min_sum_hessian_in_leaf': 0.4467752817973907, 'reg_alpha': 6.388511557344611e-06, 'reg_lambda': 0.0004793052550782129}. Best is trial 4 with value: -3.0187002173962485.\n"
     ]
    },
    {
     "name": "stdout",
     "output_type": "stream",
     "text": [
      "Start fitting Lvl_0_Pipe_0_Mod_1_LightGBM ...\n",
      "\n",
      "===== Start working with fold 0 for Lvl_0_Pipe_0_Mod_1_LightGBM =====\n",
      "\n",
      "Training until validation scores don't improve for 100 rounds\n",
      "[100]\tvalid's l2: 6.53481e+09\tvalid's Opt metric: 3.2225\n",
      "[200]\tvalid's l2: 6.26406e+09\tvalid's Opt metric: 3.06544\n",
      "[300]\tvalid's l2: 6.14856e+09\tvalid's Opt metric: 3.07019\n",
      "Early stopping, best iteration is:\n",
      "[258]\tvalid's l2: 6.17468e+09\tvalid's Opt metric: 3.05365\n",
      "Lvl_0_Pipe_0_Mod_1_LightGBM fitting and predicting completed\n"
     ]
    },
    {
     "name": "stderr",
     "output_type": "stream",
     "text": [
      "[2021-09-25 00:34:25,600] (INFO): Trial 8 finished with value: -3.053647878177893 and parameters: {'feature_fraction': 0.7733551396716398, 'num_leaves': 60, 'bagging_fraction': 0.9847923138822793, 'min_sum_hessian_in_leaf': 1.2604664585649468, 'reg_alpha': 2.854239907497756, 'reg_lambda': 1.1309571585271483}. Best is trial 4 with value: -3.0187002173962485.\n"
     ]
    },
    {
     "name": "stdout",
     "output_type": "stream",
     "text": [
      "Start fitting Lvl_0_Pipe_0_Mod_1_LightGBM ...\n",
      "\n",
      "===== Start working with fold 0 for Lvl_0_Pipe_0_Mod_1_LightGBM =====\n",
      "\n",
      "Training until validation scores don't improve for 100 rounds\n",
      "[100]\tvalid's l2: 6.04526e+09\tvalid's Opt metric: 3.09045\n",
      "[200]\tvalid's l2: 5.85284e+09\tvalid's Opt metric: 3.09141\n",
      "Early stopping, best iteration is:\n",
      "[149]\tvalid's l2: 5.90807e+09\tvalid's Opt metric: 3.04631\n",
      "\n",
      "===== Start working with fold 1 for Lvl_0_Pipe_0_Mod_1_LightGBM =====\n",
      "\n",
      "Training until validation scores don't improve for 100 rounds\n",
      "[100]\tvalid's l2: 5.21718e+09\tvalid's Opt metric: 2.99445\n",
      "[200]\tvalid's l2: 5.00691e+09\tvalid's Opt metric: 2.92528\n",
      "[300]\tvalid's l2: 4.93369e+09\tvalid's Opt metric: 2.9007\n",
      "[400]\tvalid's l2: 4.87865e+09\tvalid's Opt metric: 2.89801\n",
      "[500]\tvalid's l2: 4.84589e+09\tvalid's Opt metric: 2.89391\n",
      "Early stopping, best iteration is:\n",
      "[451]\tvalid's l2: 4.85939e+09\tvalid's Opt metric: 2.89219\n",
      "\n",
      "===== Start working with fold 2 for Lvl_0_Pipe_0_Mod_1_LightGBM =====\n",
      "\n",
      "Training until validation scores don't improve for 100 rounds\n",
      "[100]\tvalid's l2: 6.17999e+09\tvalid's Opt metric: 3.31222\n",
      "[200]\tvalid's l2: 5.89116e+09\tvalid's Opt metric: 3.23337\n",
      "[300]\tvalid's l2: 5.76169e+09\tvalid's Opt metric: 3.21683\n",
      "[400]\tvalid's l2: 5.72003e+09\tvalid's Opt metric: 3.20919\n",
      "Early stopping, best iteration is:\n",
      "[390]\tvalid's l2: 5.72625e+09\tvalid's Opt metric: 3.20491\n",
      "\n",
      "===== Start working with fold 3 for Lvl_0_Pipe_0_Mod_1_LightGBM =====\n",
      "\n",
      "Training until validation scores don't improve for 100 rounds\n",
      "[100]\tvalid's l2: 6.09921e+09\tvalid's Opt metric: 3.12205\n",
      "[200]\tvalid's l2: 5.84217e+09\tvalid's Opt metric: 3.04746\n",
      "[300]\tvalid's l2: 5.71004e+09\tvalid's Opt metric: 3.01785\n",
      "[400]\tvalid's l2: 5.6306e+09\tvalid's Opt metric: 2.99364\n",
      "[500]\tvalid's l2: 5.57835e+09\tvalid's Opt metric: 2.98267\n",
      "[600]\tvalid's l2: 5.53704e+09\tvalid's Opt metric: 2.97664\n",
      "[700]\tvalid's l2: 5.50546e+09\tvalid's Opt metric: 2.97398\n",
      "[800]\tvalid's l2: 5.48162e+09\tvalid's Opt metric: 2.96616\n",
      "[900]\tvalid's l2: 5.45978e+09\tvalid's Opt metric: 2.96593\n",
      "Early stopping, best iteration is:\n",
      "[845]\tvalid's l2: 5.46963e+09\tvalid's Opt metric: 2.96262\n",
      "\n",
      "===== Start working with fold 4 for Lvl_0_Pipe_0_Mod_1_LightGBM =====\n",
      "\n",
      "Training until validation scores don't improve for 100 rounds\n",
      "[100]\tvalid's l2: 6.45636e+09\tvalid's Opt metric: 3.13118\n",
      "[200]\tvalid's l2: 6.11118e+09\tvalid's Opt metric: 3.04061\n",
      "[300]\tvalid's l2: 5.9664e+09\tvalid's Opt metric: 3.01758\n",
      "[400]\tvalid's l2: 5.89276e+09\tvalid's Opt metric: 2.99771\n",
      "[500]\tvalid's l2: 5.83553e+09\tvalid's Opt metric: 2.98253\n",
      "[600]\tvalid's l2: 5.79125e+09\tvalid's Opt metric: 2.97683\n",
      "[700]\tvalid's l2: 5.76541e+09\tvalid's Opt metric: 2.97225\n",
      "[800]\tvalid's l2: 5.7388e+09\tvalid's Opt metric: 2.96974\n",
      "[900]\tvalid's l2: 5.7256e+09\tvalid's Opt metric: 2.96781\n",
      "[1000]\tvalid's l2: 5.71509e+09\tvalid's Opt metric: 2.96214\n",
      "[1100]\tvalid's l2: 5.69989e+09\tvalid's Opt metric: 2.95751\n",
      "[1200]\tvalid's l2: 5.68938e+09\tvalid's Opt metric: 2.95543\n",
      "Early stopping, best iteration is:\n",
      "[1134]\tvalid's l2: 5.69474e+09\tvalid's Opt metric: 2.95168\n",
      "\n",
      "===== Start working with fold 5 for Lvl_0_Pipe_0_Mod_1_LightGBM =====\n",
      "\n",
      "Training until validation scores don't improve for 100 rounds\n",
      "[100]\tvalid's l2: 6.6819e+09\tvalid's Opt metric: 3.18975\n",
      "[200]\tvalid's l2: 6.36018e+09\tvalid's Opt metric: 3.1292\n",
      "[300]\tvalid's l2: 6.20373e+09\tvalid's Opt metric: 3.14137\n",
      "Early stopping, best iteration is:\n",
      "[251]\tvalid's l2: 6.25707e+09\tvalid's Opt metric: 3.12117\n",
      "\n",
      "===== Start working with fold 6 for Lvl_0_Pipe_0_Mod_1_LightGBM =====\n",
      "\n",
      "Training until validation scores don't improve for 100 rounds\n",
      "[100]\tvalid's l2: 6.35021e+09\tvalid's Opt metric: 3.14798\n",
      "[200]\tvalid's l2: 6.08682e+09\tvalid's Opt metric: 3.07164\n",
      "[300]\tvalid's l2: 5.95899e+09\tvalid's Opt metric: 3.03659\n",
      "[400]\tvalid's l2: 5.88728e+09\tvalid's Opt metric: 3.03074\n",
      "[500]\tvalid's l2: 5.83254e+09\tvalid's Opt metric: 3.04646\n",
      "Early stopping, best iteration is:\n",
      "[431]\tvalid's l2: 5.86841e+09\tvalid's Opt metric: 3.02624\n",
      "Lvl_0_Pipe_0_Mod_1_LightGBM fitting and predicting completed\n",
      "Time left 8088.9418704509735\n",
      "Blending: Optimization starts with equal weights and score -3.005414863623959\n",
      "Blending, iter 0: score = -3.005302391139188, weights = [0.44767043 0.5523296 ]\n",
      "Blending, iter 1: score = -3.005302391139188, weights = [0.44767043 0.5523296 ]\n",
      "No score update. Terminated\n",
      "\n",
      "Automl preset training completed in 2745.25 seconds.\n"
     ]
    },
    {
     "name": "stderr",
     "output_type": "stream",
     "text": [
      "[2021-09-25 00:46:36,734] (INFO): oof_pred:\n",
      "array([[79965.55 ],\n",
      "       [37541.926],\n",
      "       [54479.492],\n",
      "       ...,\n",
      "       [73190.125],\n",
      "       [76962.484],\n",
      "       [55594.934]], dtype=float32)\n",
      "Shape = (279792, 1)\n"
     ]
    },
    {
     "name": "stdout",
     "output_type": "stream",
     "text": [
      "CPU times: user 2h 29min 49s, sys: 2h 2min 44s, total: 4h 32min 33s\n",
      "Wall time: 45min 45s\n"
     ]
    }
   ],
   "source": [
    "%%time \n",
    "\n",
    "automl = TabularAutoML(task = task, \n",
    "                       timeout = TIMEOUT,\n",
    "                       cpu_limit = N_THREADS,\n",
    "                       reader_params = {'n_jobs': N_THREADS, 'cv': N_FOLDS, 'random_state': RANDOM_STATE},\n",
    "                       general_params = {'use_algos': [['lgb_tuned', 'lgb','cd']]},\n",
    "                       tuning_params = {'fit_on_holdout':True, 'max_tuning_iter': 201, 'max_tuning_time': 500},\n",
    "                       lgb_params = {'default_params': {'num_threads': N_THREADS}},\n",
    "                       cb_params = {'default_params':{'task_type': \"GPU\"}}\n",
    "                      )\n",
    "oof_pred = automl.fit_predict(train_data.drop('date', axis=1), roles = roles)\n",
    "logging.info('oof_pred:\\n{}\\nShape = {}'.format(oof_pred, oof_pred.shape))"
   ]
  },
  {
   "cell_type": "code",
   "execution_count": 42,
   "metadata": {},
   "outputs": [
    {
     "name": "stdout",
     "output_type": "stream",
     "text": [
      "CPU times: user 113 ms, sys: 0 ns, total: 113 ms\n",
      "Wall time: 119 ms\n"
     ]
    },
    {
     "data": {
      "text/plain": [
       "<AxesSubplot:xlabel='Feature'>"
      ]
     },
     "execution_count": 42,
     "metadata": {},
     "output_type": "execute_result"
    },
    {
     "data": {
      "image/png": "[encoded data removed]",
      "text/plain": [
       "<Figure size 1440x864 with 1 Axes>"
      ]
     },
     "metadata": {
      "needs_background": "light"
     },
     "output_type": "display_data"
    }
   ],
   "source": [
    "%%time\n",
    "\n",
    "# Fast feature importances calculation\n",
    "fast_fi = automl.get_feature_scores('fast')\n",
    "fast_fi.set_index('Feature')['Importance'].plot.bar(figsize = (20, 12), grid = True)"
   ]
  },
  {
   "cell_type": "markdown",
   "metadata": {},
   "source": [
    "## Step 4. Predict to test data and check scores"
   ]
  },
  {
   "cell_type": "code",
   "execution_count": 37,
   "metadata": {},
   "outputs": [
    {
     "name": "stderr",
     "output_type": "stream",
     "text": [
      "[2021-09-25 00:48:24,039] (INFO): Prediction for test data:\n",
      "array([[34850.305],\n",
      "       [58194.52 ],\n",
      "       [64421.79 ],\n",
      "       ...,\n",
      "       [61413.863],\n",
      "       [31621.676],\n",
      "       [56347.336]], dtype=float32)\n",
      "Shape = (2974, 1)\n",
      "[2021-09-25 00:48:24,040] (INFO): Check scores...\n",
      "[2021-09-25 00:48:24,042] (INFO): OOF score: 31597.674798808283\n"
     ]
    },
    {
     "name": "stdout",
     "output_type": "stream",
     "text": [
      "CPU times: user 3.47 s, sys: 404 ms, total: 3.88 s\n",
      "Wall time: 338 ms\n"
     ]
    }
   ],
   "source": [
    "%%time\n",
    "\n",
    "test_pred = automl.predict(test_data)\n",
    "logging.info('Prediction for test data:\\n{}\\nShape = {}'\n",
    "              .format(test_pred, test_pred.shape))\n",
    "\n",
    "logging.info('Check scores...')\n",
    "logging.info('OOF score: {}'.format(mean_absolute_error(train_data[TARGET_NAME].values, oof_pred.data[:, 0])))"
   ]
  },
  {
   "cell_type": "markdown",
   "metadata": {},
   "source": [
    "## Step 5. Generate submission"
   ]
  },
  {
   "cell_type": "code",
   "execution_count": 38,
   "metadata": {
    "scrolled": true
   },
   "outputs": [
    {
     "data": {
      "text/html": [
       "<div>\n",
       "<style scoped>\n",
       "    .dataframe tbody tr th:only-of-type {\n",
       "        vertical-align: middle;\n",
       "    }\n",
       "\n",
       "    .dataframe tbody tr th {\n",
       "        vertical-align: top;\n",
       "    }\n",
       "\n",
       "    .dataframe thead th {\n",
       "        text-align: right;\n",
       "    }\n",
       "</style>\n",
       "<table border=\"1\" class=\"dataframe\">\n",
       "  <thead>\n",
       "    <tr style=\"text-align: right;\">\n",
       "      <th></th>\n",
       "      <th>id</th>\n",
       "      <th>per_square_meter_price</th>\n",
       "    </tr>\n",
       "  </thead>\n",
       "  <tbody>\n",
       "    <tr>\n",
       "      <th>0</th>\n",
       "      <td>COL_289284</td>\n",
       "      <td>34850.304688</td>\n",
       "    </tr>\n",
       "    <tr>\n",
       "      <th>1</th>\n",
       "      <td>COL_289305</td>\n",
       "      <td>58194.519531</td>\n",
       "    </tr>\n",
       "    <tr>\n",
       "      <th>2</th>\n",
       "      <td>COL_289318</td>\n",
       "      <td>64421.789062</td>\n",
       "    </tr>\n",
       "    <tr>\n",
       "      <th>3</th>\n",
       "      <td>COL_289354</td>\n",
       "      <td>81172.687500</td>\n",
       "    </tr>\n",
       "    <tr>\n",
       "      <th>4</th>\n",
       "      <td>COL_289399</td>\n",
       "      <td>66232.398438</td>\n",
       "    </tr>\n",
       "  </tbody>\n",
       "</table>\n",
       "</div>"
      ],
      "text/plain": [
       "           id  per_square_meter_price\n",
       "0  COL_289284            34850.304688\n",
       "1  COL_289305            58194.519531\n",
       "2  COL_289318            64421.789062\n",
       "3  COL_289354            81172.687500\n",
       "4  COL_289399            66232.398438"
      ]
     },
     "execution_count": 38,
     "metadata": {},
     "output_type": "execute_result"
    }
   ],
   "source": [
    "submission[TARGET_NAME] = test_pred.data[:, 0]\n",
    "submission.head()"
   ]
  },
  {
   "cell_type": "code",
   "execution_count": 41,
   "metadata": {},
   "outputs": [],
   "source": [
    "submission.to_csv('submission_test.csv', index = False)"
   ]
  },
  {
   "cell_type": "code",
   "execution_count": null,
   "metadata": {},
   "outputs": [],
   "source": []
  }
 ],
 "metadata": {
  "kernelspec": {
   "display_name": "Python 3",
   "language": "python",
   "name": "python3"
  },
  "language_info": {
   "codemirror_mode": {
    "name": "ipython",
    "version": 3
   },
   "file_extension": ".py",
   "mimetype": "text/x-python",
   "name": "python",
   "nbconvert_exporter": "python",
   "pygments_lexer": "ipython3",
   "version": "3.8.8"
  },
  "toc": {
   "base_numbering": 1,
   "nav_menu": {},
   "number_sections": true,
   "sideBar": true,
   "skip_h1_title": false,
   "title_cell": "Table of Contents",
   "title_sidebar": "Contents",
   "toc_cell": false,
   "toc_position": {},
   "toc_section_display": true,
   "toc_window_display": false
  }
 },
 "nbformat": 4,
 "nbformat_minor": 4
}
