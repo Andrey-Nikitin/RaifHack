{
 "cells": [
  {
   "cell_type": "markdown",
   "metadata": {},
   "source": [
    "# Step 0.1. Import necessary libraries "
   ]
  },
  {
   "cell_type": "code",
   "execution_count": 1,
   "metadata": {},
   "outputs": [],
   "source": [
    "# Standard python libraries\n",
    "import logging\n",
    "import os\n",
    "import time\n",
    "import requests\n",
    "logging.basicConfig(format='[%(asctime)s] (%(levelname)s): %(message)s', level=logging.INFO)\n",
    "\n",
    "# Installed libraries\n",
    "import numpy as np\n",
    "import pandas as pd\n",
    "from sklearn.metrics import mean_absolute_error\n",
    "from sklearn.model_selection import train_test_split\n",
    "import torch\n",
    "\n",
    "from sklearn.metrics import mean_absolute_percentage_error, r2_score, mean_squared_error\n",
    "import typing\n",
    "\n",
    "# Imports from our package\n",
    "from lightautoml.automl.presets.tabular_presets import TabularAutoML, TabularUtilizedAutoML\n",
    "from lightautoml.tasks import Task\n",
    "from lightautoml.dataset.roles import DatetimeRole"
   ]
  },
  {
   "cell_type": "code",
   "execution_count": 19,
   "metadata": {},
   "outputs": [],
   "source": [
    "THRESHOLD = 0.15\n",
    "NEGATIVE_WEIGHT = 1.1"
   ]
  },
  {
   "cell_type": "markdown",
   "metadata": {},
   "source": [
    "# Step 0.3. Data load "
   ]
  },
  {
   "cell_type": "code",
   "execution_count": 3,
   "metadata": {},
   "outputs": [
    {
     "name": "stderr",
     "output_type": "stream",
     "text": [
      "[2021-09-25 09:38:32,907] (WARNING): <decorator-gen-54>:2: DtypeWarning: Columns (1) have mixed types.Specify dtype option on import or set low_memory=False.\n",
      "\n"
     ]
    },
    {
     "name": "stdout",
     "output_type": "stream",
     "text": [
      "CPU times: user 1.12 s, sys: 95.6 ms, total: 1.22 s\n",
      "Wall time: 1.22 s\n"
     ]
    },
    {
     "data": {
      "text/html": [
       "<div>\n",
       "<style scoped>\n",
       "    .dataframe tbody tr th:only-of-type {\n",
       "        vertical-align: middle;\n",
       "    }\n",
       "\n",
       "    .dataframe tbody tr th {\n",
       "        vertical-align: top;\n",
       "    }\n",
       "\n",
       "    .dataframe thead th {\n",
       "        text-align: right;\n",
       "    }\n",
       "</style>\n",
       "<table border=\"1\" class=\"dataframe\">\n",
       "  <thead>\n",
       "    <tr style=\"text-align: right;\">\n",
       "      <th></th>\n",
       "      <th>city</th>\n",
       "      <th>floor</th>\n",
       "      <th>id</th>\n",
       "      <th>lat</th>\n",
       "      <th>lng</th>\n",
       "      <th>osm_amenity_points_in_0.001</th>\n",
       "      <th>osm_amenity_points_in_0.005</th>\n",
       "      <th>osm_amenity_points_in_0.0075</th>\n",
       "      <th>osm_amenity_points_in_0.01</th>\n",
       "      <th>osm_building_points_in_0.001</th>\n",
       "      <th>...</th>\n",
       "      <th>reform_mean_floor_count_1000</th>\n",
       "      <th>reform_mean_floor_count_500</th>\n",
       "      <th>reform_mean_year_building_1000</th>\n",
       "      <th>reform_mean_year_building_500</th>\n",
       "      <th>region</th>\n",
       "      <th>total_square</th>\n",
       "      <th>street</th>\n",
       "      <th>date</th>\n",
       "      <th>realty_type</th>\n",
       "      <th>price_type</th>\n",
       "    </tr>\n",
       "  </thead>\n",
       "  <tbody>\n",
       "    <tr>\n",
       "      <th>0</th>\n",
       "      <td>Пермь</td>\n",
       "      <td>NaN</td>\n",
       "      <td>COL_0</td>\n",
       "      <td>57.998207</td>\n",
       "      <td>56.292797</td>\n",
       "      <td>4</td>\n",
       "      <td>19</td>\n",
       "      <td>35</td>\n",
       "      <td>52</td>\n",
       "      <td>0</td>\n",
       "      <td>...</td>\n",
       "      <td>5.762963</td>\n",
       "      <td>5.530612</td>\n",
       "      <td>1964.118519</td>\n",
       "      <td>1960.959184</td>\n",
       "      <td>Пермский край</td>\n",
       "      <td>32.0</td>\n",
       "      <td>S27289</td>\n",
       "      <td>2020-01-05</td>\n",
       "      <td>10</td>\n",
       "      <td>0</td>\n",
       "    </tr>\n",
       "    <tr>\n",
       "      <th>1</th>\n",
       "      <td>Шатура</td>\n",
       "      <td>NaN</td>\n",
       "      <td>COL_1</td>\n",
       "      <td>55.574284</td>\n",
       "      <td>39.543835</td>\n",
       "      <td>3</td>\n",
       "      <td>24</td>\n",
       "      <td>37</td>\n",
       "      <td>59</td>\n",
       "      <td>0</td>\n",
       "      <td>...</td>\n",
       "      <td>2.894366</td>\n",
       "      <td>3.527778</td>\n",
       "      <td>1952.321678</td>\n",
       "      <td>1957.222222</td>\n",
       "      <td>Московская область</td>\n",
       "      <td>280.0</td>\n",
       "      <td>S17052</td>\n",
       "      <td>2020-01-05</td>\n",
       "      <td>10</td>\n",
       "      <td>0</td>\n",
       "    </tr>\n",
       "    <tr>\n",
       "      <th>2</th>\n",
       "      <td>Ярославль</td>\n",
       "      <td>NaN</td>\n",
       "      <td>COL_2</td>\n",
       "      <td>57.619140</td>\n",
       "      <td>39.850525</td>\n",
       "      <td>1</td>\n",
       "      <td>30</td>\n",
       "      <td>67</td>\n",
       "      <td>128</td>\n",
       "      <td>0</td>\n",
       "      <td>...</td>\n",
       "      <td>6.141414</td>\n",
       "      <td>7.222222</td>\n",
       "      <td>1968.150000</td>\n",
       "      <td>1973.370370</td>\n",
       "      <td>Ярославская область</td>\n",
       "      <td>297.4</td>\n",
       "      <td>S16913</td>\n",
       "      <td>2020-01-05</td>\n",
       "      <td>110</td>\n",
       "      <td>0</td>\n",
       "    </tr>\n",
       "    <tr>\n",
       "      <th>3</th>\n",
       "      <td>Новокузнецк</td>\n",
       "      <td>NaN</td>\n",
       "      <td>COL_3</td>\n",
       "      <td>53.897083</td>\n",
       "      <td>87.108604</td>\n",
       "      <td>0</td>\n",
       "      <td>0</td>\n",
       "      <td>5</td>\n",
       "      <td>21</td>\n",
       "      <td>0</td>\n",
       "      <td>...</td>\n",
       "      <td>8.581081</td>\n",
       "      <td>9.000000</td>\n",
       "      <td>1992.716216</td>\n",
       "      <td>2014.000000</td>\n",
       "      <td>Кемеровская область</td>\n",
       "      <td>190.0</td>\n",
       "      <td>S10148</td>\n",
       "      <td>2020-01-05</td>\n",
       "      <td>110</td>\n",
       "      <td>0</td>\n",
       "    </tr>\n",
       "    <tr>\n",
       "      <th>4</th>\n",
       "      <td>Москва</td>\n",
       "      <td>NaN</td>\n",
       "      <td>COL_4</td>\n",
       "      <td>55.802590</td>\n",
       "      <td>37.487110</td>\n",
       "      <td>1</td>\n",
       "      <td>23</td>\n",
       "      <td>64</td>\n",
       "      <td>153</td>\n",
       "      <td>0</td>\n",
       "      <td>...</td>\n",
       "      <td>7.263889</td>\n",
       "      <td>5.684211</td>\n",
       "      <td>1963.229167</td>\n",
       "      <td>1960.500000</td>\n",
       "      <td>Москва</td>\n",
       "      <td>60.2</td>\n",
       "      <td>S1338</td>\n",
       "      <td>2020-01-05</td>\n",
       "      <td>10</td>\n",
       "      <td>0</td>\n",
       "    </tr>\n",
       "  </tbody>\n",
       "</table>\n",
       "<p>5 rows × 77 columns</p>\n",
       "</div>"
      ],
      "text/plain": [
       "          city floor     id        lat        lng  \\\n",
       "0        Пермь   NaN  COL_0  57.998207  56.292797   \n",
       "1       Шатура   NaN  COL_1  55.574284  39.543835   \n",
       "2    Ярославль   NaN  COL_2  57.619140  39.850525   \n",
       "3  Новокузнецк   NaN  COL_3  53.897083  87.108604   \n",
       "4       Москва   NaN  COL_4  55.802590  37.487110   \n",
       "\n",
       "   osm_amenity_points_in_0.001  osm_amenity_points_in_0.005  \\\n",
       "0                            4                           19   \n",
       "1                            3                           24   \n",
       "2                            1                           30   \n",
       "3                            0                            0   \n",
       "4                            1                           23   \n",
       "\n",
       "   osm_amenity_points_in_0.0075  osm_amenity_points_in_0.01  \\\n",
       "0                            35                          52   \n",
       "1                            37                          59   \n",
       "2                            67                         128   \n",
       "3                             5                          21   \n",
       "4                            64                         153   \n",
       "\n",
       "   osm_building_points_in_0.001  ...  reform_mean_floor_count_1000  \\\n",
       "0                             0  ...                      5.762963   \n",
       "1                             0  ...                      2.894366   \n",
       "2                             0  ...                      6.141414   \n",
       "3                             0  ...                      8.581081   \n",
       "4                             0  ...                      7.263889   \n",
       "\n",
       "   reform_mean_floor_count_500  reform_mean_year_building_1000  \\\n",
       "0                     5.530612                     1964.118519   \n",
       "1                     3.527778                     1952.321678   \n",
       "2                     7.222222                     1968.150000   \n",
       "3                     9.000000                     1992.716216   \n",
       "4                     5.684211                     1963.229167   \n",
       "\n",
       "   reform_mean_year_building_500               region  total_square  street  \\\n",
       "0                    1960.959184        Пермский край          32.0  S27289   \n",
       "1                    1957.222222   Московская область         280.0  S17052   \n",
       "2                    1973.370370  Ярославская область         297.4  S16913   \n",
       "3                    2014.000000  Кемеровская область         190.0  S10148   \n",
       "4                    1960.500000               Москва          60.2   S1338   \n",
       "\n",
       "         date realty_type  price_type  \n",
       "0  2020-01-05          10           0  \n",
       "1  2020-01-05          10           0  \n",
       "2  2020-01-05         110           0  \n",
       "3  2020-01-05         110           0  \n",
       "4  2020-01-05          10           0  \n",
       "\n",
       "[5 rows x 77 columns]"
      ]
     },
     "execution_count": 3,
     "metadata": {},
     "output_type": "execute_result"
    }
   ],
   "source": [
    "%%time\n",
    "\n",
    "train_data = pd.read_csv('./data/train.csv')\n",
    "train_data.head()"
   ]
  },
  {
   "cell_type": "code",
   "execution_count": 4,
   "metadata": {},
   "outputs": [
    {
     "data": {
      "text/html": [
       "<div>\n",
       "<style scoped>\n",
       "    .dataframe tbody tr th:only-of-type {\n",
       "        vertical-align: middle;\n",
       "    }\n",
       "\n",
       "    .dataframe tbody tr th {\n",
       "        vertical-align: top;\n",
       "    }\n",
       "\n",
       "    .dataframe thead th {\n",
       "        text-align: right;\n",
       "    }\n",
       "</style>\n",
       "<table border=\"1\" class=\"dataframe\">\n",
       "  <thead>\n",
       "    <tr style=\"text-align: right;\">\n",
       "      <th></th>\n",
       "      <th>city</th>\n",
       "      <th>floor</th>\n",
       "      <th>id</th>\n",
       "      <th>osm_amenity_points_in_0.001</th>\n",
       "      <th>osm_amenity_points_in_0.005</th>\n",
       "      <th>osm_amenity_points_in_0.0075</th>\n",
       "      <th>osm_amenity_points_in_0.01</th>\n",
       "      <th>osm_building_points_in_0.001</th>\n",
       "      <th>osm_building_points_in_0.005</th>\n",
       "      <th>osm_building_points_in_0.0075</th>\n",
       "      <th>...</th>\n",
       "      <th>reform_mean_year_building_1000</th>\n",
       "      <th>reform_mean_year_building_500</th>\n",
       "      <th>region</th>\n",
       "      <th>lat</th>\n",
       "      <th>lng</th>\n",
       "      <th>total_square</th>\n",
       "      <th>street</th>\n",
       "      <th>date</th>\n",
       "      <th>realty_type</th>\n",
       "      <th>price_type</th>\n",
       "    </tr>\n",
       "  </thead>\n",
       "  <tbody>\n",
       "    <tr>\n",
       "      <th>0</th>\n",
       "      <td>Курск</td>\n",
       "      <td>1.0</td>\n",
       "      <td>COL_289284</td>\n",
       "      <td>7</td>\n",
       "      <td>55</td>\n",
       "      <td>85</td>\n",
       "      <td>117</td>\n",
       "      <td>0</td>\n",
       "      <td>0</td>\n",
       "      <td>0</td>\n",
       "      <td>...</td>\n",
       "      <td>1966.471591</td>\n",
       "      <td>1966.740260</td>\n",
       "      <td>Курская область</td>\n",
       "      <td>51.709255</td>\n",
       "      <td>36.147908</td>\n",
       "      <td>156.148996</td>\n",
       "      <td>S6983</td>\n",
       "      <td>2020-09-06</td>\n",
       "      <td>100</td>\n",
       "      <td>1</td>\n",
       "    </tr>\n",
       "    <tr>\n",
       "      <th>1</th>\n",
       "      <td>Сургут</td>\n",
       "      <td>1.0</td>\n",
       "      <td>COL_289305</td>\n",
       "      <td>8</td>\n",
       "      <td>70</td>\n",
       "      <td>112</td>\n",
       "      <td>140</td>\n",
       "      <td>0</td>\n",
       "      <td>0</td>\n",
       "      <td>0</td>\n",
       "      <td>...</td>\n",
       "      <td>1988.259259</td>\n",
       "      <td>1989.068182</td>\n",
       "      <td>Ханты-Мансийский АО</td>\n",
       "      <td>61.233240</td>\n",
       "      <td>73.462509</td>\n",
       "      <td>190.737943</td>\n",
       "      <td>S29120</td>\n",
       "      <td>2020-09-06</td>\n",
       "      <td>110</td>\n",
       "      <td>1</td>\n",
       "    </tr>\n",
       "    <tr>\n",
       "      <th>2</th>\n",
       "      <td>Тюмень</td>\n",
       "      <td>-1.0</td>\n",
       "      <td>COL_289318</td>\n",
       "      <td>3</td>\n",
       "      <td>28</td>\n",
       "      <td>67</td>\n",
       "      <td>122</td>\n",
       "      <td>0</td>\n",
       "      <td>0</td>\n",
       "      <td>0</td>\n",
       "      <td>...</td>\n",
       "      <td>1985.880282</td>\n",
       "      <td>1991.458333</td>\n",
       "      <td>Тюменская область</td>\n",
       "      <td>57.143110</td>\n",
       "      <td>65.554573</td>\n",
       "      <td>457.118051</td>\n",
       "      <td>S23731</td>\n",
       "      <td>2020-09-06</td>\n",
       "      <td>10</td>\n",
       "      <td>1</td>\n",
       "    </tr>\n",
       "    <tr>\n",
       "      <th>3</th>\n",
       "      <td>Иркутск</td>\n",
       "      <td>1.0</td>\n",
       "      <td>COL_289354</td>\n",
       "      <td>5</td>\n",
       "      <td>76</td>\n",
       "      <td>139</td>\n",
       "      <td>231</td>\n",
       "      <td>0</td>\n",
       "      <td>0</td>\n",
       "      <td>0</td>\n",
       "      <td>...</td>\n",
       "      <td>1947.073276</td>\n",
       "      <td>1941.657895</td>\n",
       "      <td>Иркутская область</td>\n",
       "      <td>52.281380</td>\n",
       "      <td>104.282975</td>\n",
       "      <td>66.503622</td>\n",
       "      <td>S14207</td>\n",
       "      <td>2020-09-06</td>\n",
       "      <td>100</td>\n",
       "      <td>1</td>\n",
       "    </tr>\n",
       "    <tr>\n",
       "      <th>4</th>\n",
       "      <td>Курск</td>\n",
       "      <td>NaN</td>\n",
       "      <td>COL_289399</td>\n",
       "      <td>8</td>\n",
       "      <td>105</td>\n",
       "      <td>189</td>\n",
       "      <td>279</td>\n",
       "      <td>0</td>\n",
       "      <td>0</td>\n",
       "      <td>2</td>\n",
       "      <td>...</td>\n",
       "      <td>1948.764151</td>\n",
       "      <td>1946.689655</td>\n",
       "      <td>Курская область</td>\n",
       "      <td>51.729706</td>\n",
       "      <td>36.194019</td>\n",
       "      <td>23.864915</td>\n",
       "      <td>S20658</td>\n",
       "      <td>2020-09-06</td>\n",
       "      <td>10</td>\n",
       "      <td>1</td>\n",
       "    </tr>\n",
       "  </tbody>\n",
       "</table>\n",
       "<p>5 rows × 76 columns</p>\n",
       "</div>"
      ],
      "text/plain": [
       "      city floor          id  osm_amenity_points_in_0.001  \\\n",
       "0    Курск   1.0  COL_289284                            7   \n",
       "1   Сургут   1.0  COL_289305                            8   \n",
       "2   Тюмень  -1.0  COL_289318                            3   \n",
       "3  Иркутск   1.0  COL_289354                            5   \n",
       "4    Курск   NaN  COL_289399                            8   \n",
       "\n",
       "   osm_amenity_points_in_0.005  osm_amenity_points_in_0.0075  \\\n",
       "0                           55                            85   \n",
       "1                           70                           112   \n",
       "2                           28                            67   \n",
       "3                           76                           139   \n",
       "4                          105                           189   \n",
       "\n",
       "   osm_amenity_points_in_0.01  osm_building_points_in_0.001  \\\n",
       "0                         117                             0   \n",
       "1                         140                             0   \n",
       "2                         122                             0   \n",
       "3                         231                             0   \n",
       "4                         279                             0   \n",
       "\n",
       "   osm_building_points_in_0.005  osm_building_points_in_0.0075  ...  \\\n",
       "0                             0                              0  ...   \n",
       "1                             0                              0  ...   \n",
       "2                             0                              0  ...   \n",
       "3                             0                              0  ...   \n",
       "4                             0                              2  ...   \n",
       "\n",
       "   reform_mean_year_building_1000  reform_mean_year_building_500  \\\n",
       "0                     1966.471591                    1966.740260   \n",
       "1                     1988.259259                    1989.068182   \n",
       "2                     1985.880282                    1991.458333   \n",
       "3                     1947.073276                    1941.657895   \n",
       "4                     1948.764151                    1946.689655   \n",
       "\n",
       "                region        lat         lng  total_square  street  \\\n",
       "0      Курская область  51.709255   36.147908    156.148996   S6983   \n",
       "1  Ханты-Мансийский АО  61.233240   73.462509    190.737943  S29120   \n",
       "2    Тюменская область  57.143110   65.554573    457.118051  S23731   \n",
       "3    Иркутская область  52.281380  104.282975     66.503622  S14207   \n",
       "4      Курская область  51.729706   36.194019     23.864915  S20658   \n",
       "\n",
       "         date  realty_type  price_type  \n",
       "0  2020-09-06          100           1  \n",
       "1  2020-09-06          110           1  \n",
       "2  2020-09-06           10           1  \n",
       "3  2020-09-06          100           1  \n",
       "4  2020-09-06           10           1  \n",
       "\n",
       "[5 rows x 76 columns]"
      ]
     },
     "execution_count": 4,
     "metadata": {},
     "output_type": "execute_result"
    }
   ],
   "source": [
    "test_data = pd.read_csv('./data/test.csv')\n",
    "test_data.head()"
   ]
  },
  {
   "cell_type": "code",
   "execution_count": 5,
   "metadata": {},
   "outputs": [
    {
     "data": {
      "text/html": [
       "<div>\n",
       "<style scoped>\n",
       "    .dataframe tbody tr th:only-of-type {\n",
       "        vertical-align: middle;\n",
       "    }\n",
       "\n",
       "    .dataframe tbody tr th {\n",
       "        vertical-align: top;\n",
       "    }\n",
       "\n",
       "    .dataframe thead th {\n",
       "        text-align: right;\n",
       "    }\n",
       "</style>\n",
       "<table border=\"1\" class=\"dataframe\">\n",
       "  <thead>\n",
       "    <tr style=\"text-align: right;\">\n",
       "      <th></th>\n",
       "      <th>id</th>\n",
       "      <th>per_square_meter_price</th>\n",
       "    </tr>\n",
       "  </thead>\n",
       "  <tbody>\n",
       "    <tr>\n",
       "      <th>0</th>\n",
       "      <td>COL_289284</td>\n",
       "      <td>0</td>\n",
       "    </tr>\n",
       "    <tr>\n",
       "      <th>1</th>\n",
       "      <td>COL_289305</td>\n",
       "      <td>0</td>\n",
       "    </tr>\n",
       "    <tr>\n",
       "      <th>2</th>\n",
       "      <td>COL_289318</td>\n",
       "      <td>0</td>\n",
       "    </tr>\n",
       "    <tr>\n",
       "      <th>3</th>\n",
       "      <td>COL_289354</td>\n",
       "      <td>0</td>\n",
       "    </tr>\n",
       "    <tr>\n",
       "      <th>4</th>\n",
       "      <td>COL_289399</td>\n",
       "      <td>0</td>\n",
       "    </tr>\n",
       "  </tbody>\n",
       "</table>\n",
       "</div>"
      ],
      "text/plain": [
       "           id  per_square_meter_price\n",
       "0  COL_289284                       0\n",
       "1  COL_289305                       0\n",
       "2  COL_289318                       0\n",
       "3  COL_289354                       0\n",
       "4  COL_289399                       0"
      ]
     },
     "execution_count": 5,
     "metadata": {},
     "output_type": "execute_result"
    }
   ],
   "source": [
    "submission = pd.read_csv('./data/test_submission.csv')\n",
    "submission.head()"
   ]
  },
  {
   "cell_type": "code",
   "execution_count": 6,
   "metadata": {},
   "outputs": [
    {
     "name": "stdout",
     "output_type": "stream",
     "text": [
      "(279792, 77)\n",
      "(2974, 76)\n"
     ]
    }
   ],
   "source": [
    "print(train_data.shape)\n",
    "print(test_data.shape)"
   ]
  },
  {
   "cell_type": "markdown",
   "metadata": {},
   "source": [
    "# Step 0.2. Parameters "
   ]
  },
  {
   "cell_type": "code",
   "execution_count": 20,
   "metadata": {},
   "outputs": [],
   "source": [
    "N_THREADS = 16 # threads cnt for lgbm and linear models\n",
    "N_FOLDS = 7 # folds cnt for AutoML, best 7\n",
    "RANDOM_STATE = 42 # fixed random state for various reasons\n",
    "TEST_SIZE = 0.1 # Test size for metric check\n",
    "TIMEOUT = 3*3600 # Time in seconds for automl run\n",
    "TARGET_NAME = 'per_square_meter_price' # Target column name"
   ]
  },
  {
   "cell_type": "markdown",
   "metadata": {},
   "source": [
    "# Step 0.4. Some user feature preparation "
   ]
  },
  {
   "cell_type": "code",
   "execution_count": 8,
   "metadata": {},
   "outputs": [],
   "source": [
    "def deviation_metric_one_sample(y_true: typing.Union[float, int], y_pred: typing.Union[float, int]) -> float:\n",
    "    \"\"\"\n",
    "    Реализация кастомной метрики для хакатона.\n",
    "\n",
    "    :param y_true: float, реальная цена\n",
    "    :param y_pred: float, предсказанная цена\n",
    "    :return: float, значение метрики\n",
    "    \"\"\"\n",
    "    deviation = (y_pred - y_true) / np.maximum(1e-8, y_true)\n",
    "    if np.abs(deviation) <= THRESHOLD:\n",
    "        return 0\n",
    "    elif deviation <= - 4 * THRESHOLD:\n",
    "        return 9 * NEGATIVE_WEIGHT\n",
    "    elif deviation < -THRESHOLD:\n",
    "        return NEGATIVE_WEIGHT * ((deviation / THRESHOLD) + 1) ** 2\n",
    "    elif deviation < 4 * THRESHOLD:\n",
    "        return ((deviation / THRESHOLD) - 1) ** 2\n",
    "    else:\n",
    "        return 9\n",
    "\n",
    "\n",
    "def deviation_metric(y_true: np.array, y_pred: np.array) -> float:\n",
    "    return np.array([deviation_metric_one_sample(y_true[n], y_pred[n]) for n in range(len(y_true))]).mean()\n",
    "\n",
    "def median_absolute_percentage_error(y_true: np.array, y_pred: np.array) -> float:\n",
    "    return np.median(np.abs(y_pred-y_true)/y_true)"
   ]
  },
  {
   "cell_type": "markdown",
   "metadata": {},
   "source": [
    "# ========= AutoML preset usage =========\n",
    "\n",
    "\n",
    "## Step 1. Create Task"
   ]
  },
  {
   "cell_type": "code",
   "execution_count": 9,
   "metadata": {},
   "outputs": [
    {
     "name": "stdout",
     "output_type": "stream",
     "text": [
      "CPU times: user 311 µs, sys: 33 µs, total: 344 µs\n",
      "Wall time: 351 µs\n"
     ]
    }
   ],
   "source": [
    "%%time\n",
    "\n",
    "task = Task('reg', loss='mse', metric=deviation_metric, greater_is_better=False)"
   ]
  },
  {
   "cell_type": "markdown",
   "metadata": {},
   "source": [
    "## Step 2. Setup columns roles"
   ]
  },
  {
   "cell_type": "markdown",
   "metadata": {},
   "source": [
    "Roles setup here set target column and base date, which is used to calculate date differences:"
   ]
  },
  {
   "cell_type": "code",
   "execution_count": 31,
   "metadata": {},
   "outputs": [],
   "source": [
    "NUM_FEATURES = ['lat', 'lng', 'osm_amenity_points_in_0.001',\n",
    "       'osm_amenity_points_in_0.005', 'osm_amenity_points_in_0.0075',\n",
    "       'osm_amenity_points_in_0.01', 'osm_building_points_in_0.001',\n",
    "       'osm_building_points_in_0.005', 'osm_building_points_in_0.0075',\n",
    "       'osm_building_points_in_0.01', 'osm_catering_points_in_0.001',\n",
    "       'osm_catering_points_in_0.005', 'osm_catering_points_in_0.0075',\n",
    "       'osm_catering_points_in_0.01', 'osm_city_closest_dist',\n",
    "      'osm_city_nearest_population',\n",
    "       'osm_crossing_closest_dist', 'osm_crossing_points_in_0.001',\n",
    "       'osm_crossing_points_in_0.005', 'osm_crossing_points_in_0.0075',\n",
    "       'osm_crossing_points_in_0.01', 'osm_culture_points_in_0.001',\n",
    "       'osm_culture_points_in_0.005', 'osm_culture_points_in_0.0075',\n",
    "       'osm_culture_points_in_0.01', 'osm_finance_points_in_0.001',\n",
    "       'osm_finance_points_in_0.005', 'osm_finance_points_in_0.0075',\n",
    "       'osm_finance_points_in_0.01', 'osm_healthcare_points_in_0.005',\n",
    "       'osm_healthcare_points_in_0.0075', 'osm_healthcare_points_in_0.01',\n",
    "       'osm_historic_points_in_0.005', 'osm_historic_points_in_0.0075',\n",
    "       'osm_historic_points_in_0.01', 'osm_hotels_points_in_0.005',\n",
    "       'osm_hotels_points_in_0.0075', 'osm_hotels_points_in_0.01',\n",
    "       'osm_leisure_points_in_0.005', 'osm_leisure_points_in_0.0075',\n",
    "       'osm_leisure_points_in_0.01', 'osm_offices_points_in_0.001',\n",
    "       'osm_offices_points_in_0.005', 'osm_offices_points_in_0.0075',\n",
    "       'osm_offices_points_in_0.01', 'osm_shops_points_in_0.001',\n",
    "       'osm_shops_points_in_0.005', 'osm_shops_points_in_0.0075',\n",
    "       'osm_shops_points_in_0.01', 'osm_subway_closest_dist',\n",
    "       'osm_train_stop_closest_dist', 'osm_train_stop_points_in_0.005',\n",
    "       'osm_train_stop_points_in_0.0075', 'osm_train_stop_points_in_0.01',\n",
    "       'osm_transport_stop_closest_dist', 'osm_transport_stop_points_in_0.005',\n",
    "       'osm_transport_stop_points_in_0.0075',\n",
    "       'osm_transport_stop_points_in_0.01',\n",
    "       'reform_count_of_houses_1000', 'reform_count_of_houses_500',\n",
    "       'reform_house_population_1000', 'reform_house_population_500',\n",
    "       'reform_mean_floor_count_1000', 'reform_mean_floor_count_500',\n",
    "       'reform_mean_year_building_1000', 'reform_mean_year_building_500','total_square']"
   ]
  },
  {
   "cell_type": "code",
   "execution_count": 11,
   "metadata": {},
   "outputs": [],
   "source": [
    "CATEGORICAL_STE_FEATURES = ['region', 'city', 'realty_type']"
   ]
  },
  {
   "cell_type": "code",
   "execution_count": 32,
   "metadata": {},
   "outputs": [],
   "source": [
    "NUM_FEATURES.append(TARGET_NAME)"
   ]
  },
  {
   "cell_type": "code",
   "execution_count": 35,
   "metadata": {},
   "outputs": [],
   "source": [
    "train_new = train_data[NUM_FEATURES]"
   ]
  },
  {
   "cell_type": "code",
   "execution_count": 41,
   "metadata": {},
   "outputs": [
    {
     "name": "stdout",
     "output_type": "stream",
     "text": [
      "CPU times: user 0 ns, sys: 6 µs, total: 6 µs\n",
      "Wall time: 11.7 µs\n"
     ]
    }
   ],
   "source": [
    "%%time\n",
    "\n",
    "roles = {'target': TARGET_NAME,\n",
    "         #'drop': ['id', 'floor'],\n",
    "         #'numeric': NUM_FEATURES,\n",
    "         #'category': CATEGORICAL_STE_FEATURES,\n",
    "         #DatetimeRole(base_date=False, base_feats=True, seasonality=('y', 'm', 'd')): 'date'\n",
    "         }"
   ]
  },
  {
   "cell_type": "markdown",
   "metadata": {},
   "source": [
    "## Step 3. Create AutoML from preset"
   ]
  },
  {
   "cell_type": "markdown",
   "metadata": {},
   "source": [
    "To create AutoML model here we use `TabularAutoML` preset, which looks like:\n",
    "\n",
    "![TabularAutoML preset pipeline](https://github.com/sberbank-ai-lab/LightAutoML/raw/master/imgs/tutorial_2_pipeline.png)\n",
    "\n",
    "All params we set above can be send inside preset to change its configuration:"
   ]
  },
  {
   "cell_type": "code",
   "execution_count": null,
   "metadata": {
    "_kg_hide-output": true,
    "scrolled": true
   },
   "outputs": [
    {
     "name": "stdout",
     "output_type": "stream",
     "text": [
      "Start automl preset with listed constraints:\n",
      "- time: 10800 seconds\n",
      "- cpus: 16 cores\n",
      "- memory: 16 gb\n",
      "\n",
      "Train data shape: (279792, 68)\n",
      "Feats was rejected during automatic roles guess: []\n",
      "\n",
      "\n",
      "Layer 1 ...\n",
      "Train process start. Time left 10793.25822854042 secs\n",
      "Start fitting Selector_LightGBM ...\n",
      "\n",
      "===== Start working with fold 0 for Selector_LightGBM =====\n",
      "\n",
      "Training until validation scores don't improve for 100 rounds\n",
      "[100]\tvalid's l2: 8.22228e+09\tvalid's Opt metric: 3.98809\n",
      "[200]\tvalid's l2: 7.36778e+09\tvalid's Opt metric: 3.77167\n",
      "[300]\tvalid's l2: 6.97931e+09\tvalid's Opt metric: 3.68349\n",
      "[400]\tvalid's l2: 6.70158e+09\tvalid's Opt metric: 3.62095\n",
      "[500]\tvalid's l2: 6.48876e+09\tvalid's Opt metric: 3.56996\n",
      "[600]\tvalid's l2: 6.32923e+09\tvalid's Opt metric: 3.52694\n",
      "[700]\tvalid's l2: 6.188e+09\tvalid's Opt metric: 3.49527\n",
      "[800]\tvalid's l2: 6.07246e+09\tvalid's Opt metric: 3.4638\n",
      "[900]\tvalid's l2: 5.9788e+09\tvalid's Opt metric: 3.43346\n",
      "[1000]\tvalid's l2: 5.90556e+09\tvalid's Opt metric: 3.40965\n",
      "[1100]\tvalid's l2: 5.8319e+09\tvalid's Opt metric: 3.38756\n",
      "[1200]\tvalid's l2: 5.77234e+09\tvalid's Opt metric: 3.36464\n",
      "[1300]\tvalid's l2: 5.71861e+09\tvalid's Opt metric: 3.34024\n",
      "[1400]\tvalid's l2: 5.66861e+09\tvalid's Opt metric: 3.32056\n",
      "[1500]\tvalid's l2: 5.62867e+09\tvalid's Opt metric: 3.299\n",
      "[1600]\tvalid's l2: 5.58846e+09\tvalid's Opt metric: 3.28538\n",
      "[1700]\tvalid's l2: 5.56117e+09\tvalid's Opt metric: 3.26749\n",
      "[1800]\tvalid's l2: 5.53048e+09\tvalid's Opt metric: 3.25229\n",
      "[1900]\tvalid's l2: 5.50245e+09\tvalid's Opt metric: 3.23607\n",
      "[2000]\tvalid's l2: 5.47552e+09\tvalid's Opt metric: 3.22268\n",
      "Did not meet early stopping. Best iteration is:\n",
      "[2000]\tvalid's l2: 5.47552e+09\tvalid's Opt metric: 3.22268\n",
      "Selector_LightGBM fitting and predicting completed\n",
      "Start fitting Lvl_0_Pipe_0_Mod_0_LightGBM ...\n",
      "\n",
      "===== Start working with fold 0 for Lvl_0_Pipe_0_Mod_0_LightGBM =====\n",
      "\n",
      "Training until validation scores don't improve for 100 rounds\n",
      "[100]\tvalid's l2: 6.86565e+09\tvalid's Opt metric: 3.25593\n",
      "[200]\tvalid's l2: 6.58004e+09\tvalid's Opt metric: 3.10731\n",
      "[300]\tvalid's l2: 6.45984e+09\tvalid's Opt metric: 3.10148\n",
      "Early stopping, best iteration is:\n",
      "[262]\tvalid's l2: 6.50101e+09\tvalid's Opt metric: 3.09093\n",
      "\n",
      "===== Start working with fold 1 for Lvl_0_Pipe_0_Mod_0_LightGBM =====\n",
      "\n",
      "Training until validation scores don't improve for 100 rounds\n",
      "[100]\tvalid's l2: 5.98902e+09\tvalid's Opt metric: 3.24168\n",
      "[200]\tvalid's l2: 5.72321e+09\tvalid's Opt metric: 3.09512\n"
     ]
    }
   ],
   "source": [
    "%%time \n",
    "\n",
    "automl = TabularAutoML(task = task, \n",
    "                       timeout = TIMEOUT,\n",
    "                       cpu_limit = N_THREADS,\n",
    "                       reader_params = {'n_jobs': N_THREADS, 'cv': N_FOLDS, 'random_state': RANDOM_STATE},\n",
    "                       general_params = {'use_algos': [['lgb_tuned', 'lgb','cd']]},\n",
    "                       #tuning_params = {'fit_on_holdout':True, 'max_tuning_iter': 201, 'max_tuning_time': 500},\n",
    "                       lgb_params = {'default_params': {'num_threads': N_THREADS}},\n",
    "                       cb_params = {'default_params':{'task_type': \"GPU\"}}\n",
    "                      )\n",
    "oof_pred = automl.fit_predict(train_new, roles = roles)\n",
    "logging.info('oof_pred:\\n{}\\nShape = {}'.format(oof_pred, oof_pred.shape))"
   ]
  },
  {
   "cell_type": "code",
   "execution_count": 23,
   "metadata": {},
   "outputs": [
    {
     "name": "stdout",
     "output_type": "stream",
     "text": [
      "CPU times: user 110 ms, sys: 3.96 ms, total: 114 ms\n",
      "Wall time: 117 ms\n"
     ]
    },
    {
     "data": {
      "text/plain": [
       "<AxesSubplot:xlabel='Feature'>"
      ]
     },
     "execution_count": 23,
     "metadata": {},
     "output_type": "execute_result"
    },
    {
     "data": {
      "image/png": "[encoded data removed]",
      "text/plain": [
       "<Figure size 1440x864 with 1 Axes>"
      ]
     },
     "metadata": {
      "needs_background": "light"
     },
     "output_type": "display_data"
    }
   ],
   "source": [
    "%%time\n",
    "\n",
    "# Fast feature importances calculation\n",
    "fast_fi = automl.get_feature_scores('fast')\n",
    "fast_fi.set_index('Feature')['Importance'].plot.bar(figsize = (20, 12), grid = True)"
   ]
  },
  {
   "cell_type": "markdown",
   "metadata": {},
   "source": [
    "## Step 4. Predict to test data and check scores"
   ]
  },
  {
   "cell_type": "code",
   "execution_count": 24,
   "metadata": {},
   "outputs": [
    {
     "name": "stderr",
     "output_type": "stream",
     "text": [
      "[2021-09-25 11:43:59,500] (INFO): Prediction for test data:\n",
      "array([[38519.965],\n",
      "       [54549.316],\n",
      "       [51106.117],\n",
      "       ...,\n",
      "       [51706.305],\n",
      "       [58667.97 ],\n",
      "       [47155.79 ]], dtype=float32)\n",
      "Shape = (2974, 1)\n",
      "[2021-09-25 11:43:59,501] (INFO): Check scores...\n",
      "[2021-09-25 11:43:59,502] (INFO): OOF score: 29267.990025748266\n"
     ]
    },
    {
     "name": "stdout",
     "output_type": "stream",
     "text": [
      "CPU times: user 7 s, sys: 27.9 ms, total: 7.02 s\n",
      "Wall time: 528 ms\n"
     ]
    }
   ],
   "source": [
    "%%time\n",
    "\n",
    "test_pred = automl.predict(test_data)\n",
    "logging.info('Prediction for test data:\\n{}\\nShape = {}'\n",
    "              .format(test_pred, test_pred.shape))\n",
    "\n",
    "logging.info('Check scores...')\n",
    "logging.info('OOF score: {}'.format(mean_absolute_error(train_data[TARGET_NAME].values, oof_pred.data[:, 0])))"
   ]
  },
  {
   "cell_type": "markdown",
   "metadata": {},
   "source": [
    "## Step 5. Generate submission"
   ]
  },
  {
   "cell_type": "code",
   "execution_count": 25,
   "metadata": {
    "scrolled": true
   },
   "outputs": [
    {
     "data": {
      "text/html": [
       "<div>\n",
       "<style scoped>\n",
       "    .dataframe tbody tr th:only-of-type {\n",
       "        vertical-align: middle;\n",
       "    }\n",
       "\n",
       "    .dataframe tbody tr th {\n",
       "        vertical-align: top;\n",
       "    }\n",
       "\n",
       "    .dataframe thead th {\n",
       "        text-align: right;\n",
       "    }\n",
       "</style>\n",
       "<table border=\"1\" class=\"dataframe\">\n",
       "  <thead>\n",
       "    <tr style=\"text-align: right;\">\n",
       "      <th></th>\n",
       "      <th>id</th>\n",
       "      <th>per_square_meter_price</th>\n",
       "    </tr>\n",
       "  </thead>\n",
       "  <tbody>\n",
       "    <tr>\n",
       "      <th>0</th>\n",
       "      <td>COL_289284</td>\n",
       "      <td>38519.964844</td>\n",
       "    </tr>\n",
       "    <tr>\n",
       "      <th>1</th>\n",
       "      <td>COL_289305</td>\n",
       "      <td>54549.316406</td>\n",
       "    </tr>\n",
       "    <tr>\n",
       "      <th>2</th>\n",
       "      <td>COL_289318</td>\n",
       "      <td>51106.117188</td>\n",
       "    </tr>\n",
       "    <tr>\n",
       "      <th>3</th>\n",
       "      <td>COL_289354</td>\n",
       "      <td>105129.343750</td>\n",
       "    </tr>\n",
       "    <tr>\n",
       "      <th>4</th>\n",
       "      <td>COL_289399</td>\n",
       "      <td>62251.871094</td>\n",
       "    </tr>\n",
       "  </tbody>\n",
       "</table>\n",
       "</div>"
      ],
      "text/plain": [
       "           id  per_square_meter_price\n",
       "0  COL_289284            38519.964844\n",
       "1  COL_289305            54549.316406\n",
       "2  COL_289318            51106.117188\n",
       "3  COL_289354           105129.343750\n",
       "4  COL_289399            62251.871094"
      ]
     },
     "execution_count": 25,
     "metadata": {},
     "output_type": "execute_result"
    }
   ],
   "source": [
    "submission[TARGET_NAME] = test_pred.data[:, 0]\n",
    "submission.head()"
   ]
  },
  {
   "cell_type": "code",
   "execution_count": 26,
   "metadata": {},
   "outputs": [],
   "source": [
    "submission.to_csv('submission_test.csv', index = False)"
   ]
  },
  {
   "cell_type": "code",
   "execution_count": null,
   "metadata": {},
   "outputs": [],
   "source": []
  }
 ],
 "metadata": {
  "kernelspec": {
   "display_name": "Python 3",
   "language": "python",
   "name": "python3"
  },
  "language_info": {
   "codemirror_mode": {
    "name": "ipython",
    "version": 3
   },
   "file_extension": ".py",
   "mimetype": "text/x-python",
   "name": "python",
   "nbconvert_exporter": "python",
   "pygments_lexer": "ipython3",
   "version": "3.8.8"
  },
  "toc": {
   "base_numbering": 1,
   "nav_menu": {},
   "number_sections": true,
   "sideBar": true,
   "skip_h1_title": false,
   "title_cell": "Table of Contents",
   "title_sidebar": "Contents",
   "toc_cell": false,
   "toc_position": {},
   "toc_section_display": true,
   "toc_window_display": false
  }
 },
 "nbformat": 4,
 "nbformat_minor": 4
}
